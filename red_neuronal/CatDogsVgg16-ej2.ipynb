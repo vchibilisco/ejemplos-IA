{
 "cells": [
  {
   "cell_type": "code",
   "execution_count": 68,
   "metadata": {},
   "outputs": [
    {
     "name": "stdout",
     "output_type": "stream",
     "text": [
      "ERROR! Session/line number was not unique in database. History logging moved to new session 109\n"
     ]
    }
   ],
   "source": [
    "import os\n",
    "from keras.preprocessing.image import ImageDataGenerator \n",
    "# https://keras.io/api/preprocessing/image/#image-data-preprocessing\n",
    "from keras.applications.imagenet_utils import preprocess_input\n",
    "\n",
    "from keras.applications.vgg16 import VGG16\n",
    "\n",
    "from keras.models import Model, Sequential\n",
    "\n",
    "from keras.layers import Dense, Flatten, Dropout\n",
    "\n",
    "from keras.optimizers import Adam\n",
    "from keras.losses import binary_crossentropy\n",
    "from keras.metrics import accuracy\n",
    "\n",
    "import matplotlib.pyplot as plt\n",
    "import numpy as np\n",
    "\n",
    "from sklearn.metrics import classification_report, confusion_matrix"
   ]
  },
  {
   "cell_type": "markdown",
   "id": "49e2ac93",
   "metadata": {},
   "source": [
    "Verificando si las carpetas necesarias estan disponibles"
   ]
  },
  {
   "cell_type": "code",
   "execution_count": 35,
   "id": "dc31cfbe",
   "metadata": {},
   "outputs": [
    {
     "name": "stdout",
     "output_type": "stream",
     "text": [
      "OK\n"
     ]
    }
   ],
   "source": [
    "pathTrain = './dataset/catdog/train'\n",
    "pathTest = './dataset/catdog/test'\n",
    "\n",
    "if (os.path.exists(pathTrain) and os.path.exists(pathTest)):\n",
    "    print('OK')\n",
    "else:\n",
    "    print('No existen carpetas')\n",
    "    print('Descomprima el archivo catdog.zip o puede descargar otro dataset: https://www.kaggle.com/arpitjain007/dog-vs-cat-fastai')\n"
   ]
  },
  {
   "cell_type": "markdown",
   "metadata": {},
   "source": [
    "Crear un generador de nuevas imagenes"
   ]
  },
  {
   "cell_type": "code",
   "execution_count": 36,
   "metadata": {},
   "outputs": [
    {
     "name": "stdout",
     "output_type": "stream",
     "text": [
      "Found 400 images belonging to 2 classes.\n",
      "Found 20 images belonging to 2 classes.\n"
     ]
    }
   ],
   "source": [
    "images_increased = 5\n",
    "width_shape = 224\n",
    "height_shape = 224\n",
    "batch_size = 32\n",
    "\n",
    "train_datagen = ImageDataGenerator(\n",
    "    rotation_range=20, # rota 20 grados\n",
    "    zoom_range=0.2, # zoom\n",
    "    width_shift_range=0.1, # desplazar 10%\n",
    "    height_shift_range=0.1,  # desplazar 10%\n",
    "    horizontal_flip=True, # invertir horizontalmente\n",
    "    vertical_flip=False,\n",
    "    preprocessing_function=preprocess_input\n",
    ")\n",
    "\n",
    "valid_datagen = ImageDataGenerator(    \n",
    "    rotation_range=20,\n",
    "    zoom_range=0.2,\n",
    "    width_shift_range=0.1,\n",
    "    height_shift_range=0.1,\n",
    "    horizontal_flip=True,\n",
    "    vertical_flip=False,\n",
    "    preprocessing_function=preprocess_input)\n",
    "\n",
    "train_generator = train_datagen.flow_from_directory(  \n",
    "    pathTrain,\n",
    "    target_size=(width_shape, height_shape),\n",
    "    batch_size=batch_size,\n",
    "    class_mode='binary')\n",
    "\n",
    "validation_generator = valid_datagen.flow_from_directory(  \n",
    "    pathTest,\n",
    "    target_size=(width_shape, height_shape),\n",
    "    batch_size=batch_size,\n",
    "    class_mode='binary')"
   ]
  },
  {
   "cell_type": "markdown",
   "metadata": {},
   "source": [
    "Crear modelo"
   ]
  },
  {
   "cell_type": "code",
   "execution_count": 37,
   "metadata": {},
   "outputs": [],
   "source": [
    "inputShape = (height_shape, width_shape, 3)\n",
    "\n",
    "model = VGG16(include_top=False, weights=\"imagenet\", input_shape=inputShape)"
   ]
  },
  {
   "cell_type": "markdown",
   "metadata": {},
   "source": [
    "Configurar capas para no se entrenadas. Frezar las primeras 10 capas"
   ]
  },
  {
   "cell_type": "code",
   "execution_count": 38,
   "metadata": {},
   "outputs": [
    {
     "name": "stdout",
     "output_type": "stream",
     "text": [
      "0 input_2 False\n",
      "1 block1_conv1 False\n",
      "2 block1_conv2 False\n",
      "3 block1_pool False\n",
      "4 block2_conv1 False\n",
      "5 block2_conv2 False\n",
      "6 block2_pool False\n",
      "7 block3_conv1 False\n",
      "8 block3_conv2 False\n",
      "9 block3_conv3 False\n",
      "10 block3_pool True\n",
      "11 block4_conv1 True\n",
      "12 block4_conv2 True\n",
      "13 block4_conv3 True\n",
      "14 block4_pool True\n",
      "15 block5_conv1 True\n",
      "16 block5_conv2 True\n",
      "17 block5_conv3 True\n",
      "18 block5_pool True\n"
     ]
    }
   ],
   "source": [
    "for layer in model.layers[:10]:\n",
    "    layer.trainable = False\n",
    "\n",
    "for i, layer in enumerate(model.layers):\n",
    "    print(i, layer.name, layer.trainable)\n"
   ]
  },
  {
   "cell_type": "markdown",
   "metadata": {},
   "source": [
    "Generar función que agrega capas en la etapa de clasificación"
   ]
  },
  {
   "cell_type": "code",
   "execution_count": 51,
   "metadata": {},
   "outputs": [],
   "source": [
    "def load_fc_layers(model):\n",
    "    # add new classifier layers\n",
    "    newModel = Sequential()\n",
    "    newModel.add(model)\n",
    "    newModel.add(Flatten())\n",
    "    newModel.add(Dense(128, activation='relu', kernel_initializer='he_uniform'))\n",
    "    newModel.add(Dropout(rate=0.1))\n",
    "    newModel.add(Dense(64, activation='relu', kernel_initializer='he_uniform'))\n",
    "    newModel.add(Dense(1, activation='sigmoid'))\n",
    "    \n",
    "    return newModel"
   ]
  },
  {
   "cell_type": "code",
   "execution_count": 52,
   "metadata": {},
   "outputs": [
    {
     "name": "stdout",
     "output_type": "stream",
     "text": [
      "0 vgg16 True\n",
      "1 flatten_8 True\n",
      "2 dense_17 True\n",
      "3 dropout_1 True\n",
      "4 dense_18 True\n",
      "5 dense_19 True\n",
      "Model: \"sequential_5\"\n",
      "_________________________________________________________________\n",
      "Layer (type)                 Output Shape              Param #   \n",
      "=================================================================\n",
      "vgg16 (Model)                (None, 7, 7, 512)         14714688  \n",
      "_________________________________________________________________\n",
      "flatten_8 (Flatten)          (None, 25088)             0         \n",
      "_________________________________________________________________\n",
      "dense_17 (Dense)             (None, 128)               3211392   \n",
      "_________________________________________________________________\n",
      "dropout_1 (Dropout)          (None, 128)               0         \n",
      "_________________________________________________________________\n",
      "dense_18 (Dense)             (None, 64)                8256      \n",
      "_________________________________________________________________\n",
      "dense_19 (Dense)             (None, 1)                 65        \n",
      "=================================================================\n",
      "Total params: 17,934,401\n",
      "Trainable params: 16,198,913\n",
      "Non-trainable params: 1,735,488\n",
      "_________________________________________________________________\n"
     ]
    }
   ],
   "source": [
    "fullModel = load_fc_layers(model)\n",
    "for i, layer in enumerate(fullModel.layers):\n",
    "    print(i, layer.name, layer.trainable)\n",
    "\n",
    "fullModel.summary()"
   ]
  },
  {
   "cell_type": "markdown",
   "metadata": {},
   "source": [
    "Compilar"
   ]
  },
  {
   "cell_type": "code",
   "execution_count": 54,
   "metadata": {},
   "outputs": [],
   "source": [
    "adam = Adam(learning_rate=0.1)\n",
    "\n",
    "fullModel.compile(\n",
    "    optimizer=adam,\n",
    "    loss=binary_crossentropy,\n",
    "    metrics=[accuracy]\n",
    ")"
   ]
  },
  {
   "cell_type": "markdown",
   "metadata": {},
   "source": [
    "Entrenar"
   ]
  },
  {
   "cell_type": "code",
   "execution_count": 55,
   "metadata": {},
   "outputs": [
    {
     "name": "stdout",
     "output_type": "stream",
     "text": [
      "Epoch 1/100\n",
      "13/13 [==============================] - 9s 671ms/step - loss: 949.3373 - accuracy: 0.2925 - val_loss: 0.7037 - val_accuracy: 0.0000e+00\n",
      "Epoch 2/100\n",
      "13/13 [==============================] - 8s 609ms/step - loss: 0.9680 - accuracy: 0.0000e+00 - val_loss: 0.7048 - val_accuracy: 0.0000e+00\n",
      "Epoch 3/100\n",
      "13/13 [==============================] - 8s 608ms/step - loss: 0.7102 - accuracy: 0.0000e+00 - val_loss: 0.6939 - val_accuracy: 0.0000e+00\n",
      "Epoch 4/100\n",
      "13/13 [==============================] - 8s 608ms/step - loss: 0.6950 - accuracy: 0.0000e+00 - val_loss: 0.6937 - val_accuracy: 0.0000e+00\n",
      "Epoch 5/100\n",
      "13/13 [==============================] - 8s 608ms/step - loss: 0.6936 - accuracy: 0.0000e+00 - val_loss: 0.6932 - val_accuracy: 0.0000e+00\n",
      "Epoch 6/100\n",
      "13/13 [==============================] - 8s 610ms/step - loss: 0.6952 - accuracy: 0.0000e+00 - val_loss: 0.6934 - val_accuracy: 0.0000e+00\n",
      "Epoch 7/100\n",
      "13/13 [==============================] - 8s 608ms/step - loss: 0.6966 - accuracy: 0.0000e+00 - val_loss: 0.6932 - val_accuracy: 0.0000e+00\n",
      "Epoch 8/100\n",
      "13/13 [==============================] - 8s 608ms/step - loss: 0.6935 - accuracy: 0.0000e+00 - val_loss: 0.6932 - val_accuracy: 0.0000e+00\n",
      "Epoch 9/100\n",
      "13/13 [==============================] - 8s 608ms/step - loss: 0.6937 - accuracy: 0.0000e+00 - val_loss: 0.6932 - val_accuracy: 0.0000e+00\n",
      "Epoch 10/100\n",
      "13/13 [==============================] - 8s 609ms/step - loss: 0.6949 - accuracy: 0.0000e+00 - val_loss: 0.6932 - val_accuracy: 0.0000e+00\n",
      "Epoch 11/100\n",
      "13/13 [==============================] - 8s 608ms/step - loss: 0.6929 - accuracy: 0.0000e+00 - val_loss: 0.6937 - val_accuracy: 0.0000e+00\n",
      "Epoch 12/100\n",
      "13/13 [==============================] - 8s 608ms/step - loss: 0.6955 - accuracy: 0.0000e+00 - val_loss: 0.6932 - val_accuracy: 0.0000e+00\n",
      "Epoch 13/100\n",
      "13/13 [==============================] - 8s 608ms/step - loss: 0.6946 - accuracy: 0.0000e+00 - val_loss: 0.6937 - val_accuracy: 0.0000e+00\n",
      "Epoch 14/100\n",
      "13/13 [==============================] - 8s 608ms/step - loss: 0.6960 - accuracy: 0.0000e+00 - val_loss: 0.6933 - val_accuracy: 0.0000e+00\n",
      "Epoch 15/100\n",
      "13/13 [==============================] - 8s 608ms/step - loss: 0.6965 - accuracy: 0.0000e+00 - val_loss: 0.6936 - val_accuracy: 0.0000e+00\n",
      "Epoch 16/100\n",
      "13/13 [==============================] - 8s 608ms/step - loss: 0.6972 - accuracy: 0.0000e+00 - val_loss: 0.6945 - val_accuracy: 0.0000e+00\n",
      "Epoch 17/100\n",
      "13/13 [==============================] - 8s 608ms/step - loss: 0.6939 - accuracy: 0.0000e+00 - val_loss: 0.6932 - val_accuracy: 0.0000e+00\n",
      "Epoch 18/100\n",
      "13/13 [==============================] - 8s 608ms/step - loss: 0.6974 - accuracy: 0.0000e+00 - val_loss: 0.6950 - val_accuracy: 0.0000e+00\n",
      "Epoch 19/100\n",
      "13/13 [==============================] - 8s 608ms/step - loss: 0.6934 - accuracy: 0.0000e+00 - val_loss: 0.6932 - val_accuracy: 0.0000e+00\n",
      "Epoch 20/100\n",
      "13/13 [==============================] - 8s 608ms/step - loss: 0.6951 - accuracy: 0.0000e+00 - val_loss: 0.6932 - val_accuracy: 0.0000e+00\n",
      "Epoch 21/100\n",
      "13/13 [==============================] - 8s 607ms/step - loss: 0.6936 - accuracy: 0.0000e+00 - val_loss: 0.6932 - val_accuracy: 0.0000e+00\n",
      "Epoch 22/100\n",
      "13/13 [==============================] - 8s 608ms/step - loss: 0.6944 - accuracy: 0.0000e+00 - val_loss: 0.6934 - val_accuracy: 0.0000e+00\n",
      "Epoch 23/100\n",
      "13/13 [==============================] - 8s 608ms/step - loss: 0.6936 - accuracy: 0.0000e+00 - val_loss: 0.6933 - val_accuracy: 0.0000e+00\n",
      "Epoch 24/100\n",
      "13/13 [==============================] - 8s 608ms/step - loss: 0.6962 - accuracy: 0.0000e+00 - val_loss: 0.6936 - val_accuracy: 0.0000e+00\n",
      "Epoch 25/100\n",
      "13/13 [==============================] - 8s 608ms/step - loss: 0.6930 - accuracy: 0.0000e+00 - val_loss: 0.6932 - val_accuracy: 0.0000e+00\n",
      "Epoch 26/100\n",
      "13/13 [==============================] - 8s 608ms/step - loss: 0.6938 - accuracy: 0.0000e+00 - val_loss: 0.6932 - val_accuracy: 0.0000e+00\n",
      "Epoch 27/100\n",
      "13/13 [==============================] - 8s 607ms/step - loss: 0.6945 - accuracy: 0.0000e+00 - val_loss: 0.6935 - val_accuracy: 0.0000e+00\n",
      "Epoch 28/100\n",
      "13/13 [==============================] - 8s 608ms/step - loss: 0.6936 - accuracy: 0.0000e+00 - val_loss: 0.6932 - val_accuracy: 0.0000e+00\n",
      "Epoch 29/100\n",
      "13/13 [==============================] - 8s 608ms/step - loss: 0.6937 - accuracy: 0.0000e+00 - val_loss: 0.6932 - val_accuracy: 0.0000e+00\n",
      "Epoch 30/100\n",
      "13/13 [==============================] - 8s 608ms/step - loss: 0.6936 - accuracy: 0.0000e+00 - val_loss: 0.6932 - val_accuracy: 0.0000e+00\n",
      "Epoch 31/100\n",
      "13/13 [==============================] - 8s 609ms/step - loss: 0.6949 - accuracy: 0.0000e+00 - val_loss: 0.6933 - val_accuracy: 0.0000e+00\n",
      "Epoch 32/100\n",
      "13/13 [==============================] - 8s 608ms/step - loss: 0.6928 - accuracy: 0.0000e+00 - val_loss: 0.6934 - val_accuracy: 0.0000e+00\n",
      "Epoch 33/100\n",
      "13/13 [==============================] - 8s 607ms/step - loss: 0.6947 - accuracy: 0.0000e+00 - val_loss: 0.6933 - val_accuracy: 0.0000e+00\n",
      "Epoch 34/100\n",
      "13/13 [==============================] - 8s 608ms/step - loss: 0.6940 - accuracy: 0.0000e+00 - val_loss: 0.6938 - val_accuracy: 0.0000e+00\n",
      "Epoch 35/100\n",
      "13/13 [==============================] - 8s 608ms/step - loss: 0.6944 - accuracy: 0.0000e+00 - val_loss: 0.6934 - val_accuracy: 0.0000e+00\n",
      "Epoch 36/100\n",
      "13/13 [==============================] - 8s 608ms/step - loss: 0.7014 - accuracy: 0.0000e+00 - val_loss: 0.6936 - val_accuracy: 0.0000e+00\n",
      "Epoch 37/100\n",
      "13/13 [==============================] - 8s 608ms/step - loss: 0.6957 - accuracy: 0.0000e+00 - val_loss: 0.6955 - val_accuracy: 0.0000e+00\n",
      "Epoch 38/100\n",
      "13/13 [==============================] - 8s 608ms/step - loss: 0.6940 - accuracy: 0.0000e+00 - val_loss: 0.6933 - val_accuracy: 0.0000e+00\n",
      "Epoch 39/100\n",
      "13/13 [==============================] - 8s 608ms/step - loss: 0.6953 - accuracy: 0.0000e+00 - val_loss: 0.6936 - val_accuracy: 0.0000e+00\n",
      "Epoch 40/100\n",
      "13/13 [==============================] - 8s 608ms/step - loss: 0.6941 - accuracy: 0.0000e+00 - val_loss: 0.6933 - val_accuracy: 0.0000e+00\n",
      "Epoch 41/100\n",
      "13/13 [==============================] - 8s 608ms/step - loss: 0.6959 - accuracy: 0.0000e+00 - val_loss: 0.6935 - val_accuracy: 0.0000e+00\n",
      "Epoch 42/100\n",
      "13/13 [==============================] - 8s 608ms/step - loss: 0.6999 - accuracy: 0.0000e+00 - val_loss: 0.6936 - val_accuracy: 0.0000e+00\n",
      "Epoch 43/100\n",
      "13/13 [==============================] - 8s 607ms/step - loss: 0.6977 - accuracy: 0.0000e+00 - val_loss: 0.6947 - val_accuracy: 0.0000e+00\n",
      "Epoch 44/100\n",
      "13/13 [==============================] - 8s 608ms/step - loss: 0.6946 - accuracy: 0.0000e+00 - val_loss: 0.6933 - val_accuracy: 0.0000e+00\n",
      "Epoch 45/100\n",
      "13/13 [==============================] - 8s 608ms/step - loss: 0.6937 - accuracy: 0.0000e+00 - val_loss: 0.6932 - val_accuracy: 0.0000e+00\n",
      "Epoch 46/100\n",
      "13/13 [==============================] - 8s 608ms/step - loss: 0.6946 - accuracy: 0.0000e+00 - val_loss: 0.6932 - val_accuracy: 0.0000e+00\n",
      "Epoch 47/100\n",
      "13/13 [==============================] - 8s 608ms/step - loss: 0.6960 - accuracy: 0.0000e+00 - val_loss: 0.6932 - val_accuracy: 0.0000e+00\n",
      "Epoch 48/100\n",
      "13/13 [==============================] - 8s 608ms/step - loss: 0.6956 - accuracy: 0.0000e+00 - val_loss: 0.6942 - val_accuracy: 0.0000e+00\n",
      "Epoch 49/100\n",
      "13/13 [==============================] - 8s 607ms/step - loss: 0.6942 - accuracy: 0.0000e+00 - val_loss: 0.6936 - val_accuracy: 0.0000e+00\n",
      "Epoch 50/100\n",
      "13/13 [==============================] - 8s 608ms/step - loss: 0.6971 - accuracy: 0.0000e+00 - val_loss: 0.6933 - val_accuracy: 0.0000e+00\n",
      "Epoch 51/100\n",
      "13/13 [==============================] - 8s 607ms/step - loss: 0.6944 - accuracy: 0.0000e+00 - val_loss: 0.6932 - val_accuracy: 0.0000e+00\n",
      "Epoch 52/100\n",
      "13/13 [==============================] - 8s 607ms/step - loss: 0.6965 - accuracy: 0.0000e+00 - val_loss: 0.6932 - val_accuracy: 0.0000e+00\n",
      "Epoch 53/100\n",
      "13/13 [==============================] - 8s 608ms/step - loss: 0.6931 - accuracy: 0.0000e+00 - val_loss: 0.6940 - val_accuracy: 0.0000e+00\n",
      "Epoch 54/100\n",
      "13/13 [==============================] - 8s 607ms/step - loss: 0.6942 - accuracy: 0.0000e+00 - val_loss: 0.6935 - val_accuracy: 0.0000e+00\n",
      "Epoch 55/100\n",
      "13/13 [==============================] - 8s 608ms/step - loss: 0.6966 - accuracy: 0.0000e+00 - val_loss: 0.6951 - val_accuracy: 0.0000e+00\n",
      "Epoch 56/100\n",
      "13/13 [==============================] - 8s 608ms/step - loss: 0.6972 - accuracy: 0.0000e+00 - val_loss: 0.6945 - val_accuracy: 0.0000e+00\n",
      "Epoch 57/100\n",
      "13/13 [==============================] - 8s 607ms/step - loss: 0.6944 - accuracy: 0.0000e+00 - val_loss: 0.6936 - val_accuracy: 0.0000e+00\n",
      "Epoch 58/100\n",
      "13/13 [==============================] - 8s 608ms/step - loss: 0.6944 - accuracy: 0.0000e+00 - val_loss: 0.6932 - val_accuracy: 0.0000e+00\n",
      "Epoch 59/100\n",
      "13/13 [==============================] - 8s 607ms/step - loss: 0.6952 - accuracy: 0.0000e+00 - val_loss: 0.6933 - val_accuracy: 0.0000e+00\n",
      "Epoch 60/100\n",
      "13/13 [==============================] - 8s 608ms/step - loss: 0.6936 - accuracy: 0.0000e+00 - val_loss: 0.6931 - val_accuracy: 0.0000e+00\n",
      "Epoch 61/100\n",
      "13/13 [==============================] - 8s 607ms/step - loss: 0.6954 - accuracy: 0.0000e+00 - val_loss: 0.6939 - val_accuracy: 0.0000e+00\n",
      "Epoch 62/100\n",
      "13/13 [==============================] - 8s 608ms/step - loss: 0.6953 - accuracy: 0.0000e+00 - val_loss: 0.6940 - val_accuracy: 0.0000e+00\n",
      "Epoch 63/100\n",
      "13/13 [==============================] - 8s 607ms/step - loss: 0.6945 - accuracy: 0.0000e+00 - val_loss: 0.6932 - val_accuracy: 0.0000e+00\n",
      "Epoch 64/100\n",
      "13/13 [==============================] - 8s 607ms/step - loss: 0.6946 - accuracy: 0.0000e+00 - val_loss: 0.6935 - val_accuracy: 0.0000e+00\n",
      "Epoch 65/100\n",
      "13/13 [==============================] - 8s 608ms/step - loss: 0.6937 - accuracy: 0.0000e+00 - val_loss: 0.6933 - val_accuracy: 0.0000e+00\n",
      "Epoch 66/100\n",
      "13/13 [==============================] - 8s 608ms/step - loss: 0.6939 - accuracy: 0.0000e+00 - val_loss: 0.6934 - val_accuracy: 0.0000e+00\n",
      "Epoch 67/100\n",
      "13/13 [==============================] - 8s 608ms/step - loss: 0.6946 - accuracy: 0.0000e+00 - val_loss: 0.6932 - val_accuracy: 0.0000e+00\n",
      "Epoch 68/100\n",
      "13/13 [==============================] - 8s 608ms/step - loss: 0.6936 - accuracy: 0.0000e+00 - val_loss: 0.6931 - val_accuracy: 0.0000e+00\n",
      "Epoch 69/100\n",
      "13/13 [==============================] - 8s 609ms/step - loss: 0.6938 - accuracy: 0.0000e+00 - val_loss: 0.6934 - val_accuracy: 0.0000e+00\n",
      "Epoch 70/100\n",
      "13/13 [==============================] - 8s 607ms/step - loss: 0.6937 - accuracy: 0.0000e+00 - val_loss: 0.6932 - val_accuracy: 0.0000e+00\n",
      "Epoch 71/100\n",
      "13/13 [==============================] - 8s 608ms/step - loss: 0.6946 - accuracy: 0.0000e+00 - val_loss: 0.6933 - val_accuracy: 0.0000e+00\n",
      "Epoch 72/100\n",
      "13/13 [==============================] - 8s 608ms/step - loss: 0.6941 - accuracy: 0.0000e+00 - val_loss: 0.6935 - val_accuracy: 0.0000e+00\n",
      "Epoch 73/100\n",
      "13/13 [==============================] - 8s 608ms/step - loss: 0.6973 - accuracy: 0.0000e+00 - val_loss: 0.6941 - val_accuracy: 0.0000e+00\n",
      "Epoch 74/100\n",
      "13/13 [==============================] - 8s 608ms/step - loss: 0.6961 - accuracy: 0.0000e+00 - val_loss: 0.6942 - val_accuracy: 0.0000e+00\n",
      "Epoch 75/100\n",
      "13/13 [==============================] - 8s 608ms/step - loss: 0.6940 - accuracy: 0.0000e+00 - val_loss: 0.6932 - val_accuracy: 0.0000e+00\n",
      "Epoch 76/100\n",
      "13/13 [==============================] - 8s 608ms/step - loss: 0.6933 - accuracy: 0.0000e+00 - val_loss: 0.6940 - val_accuracy: 0.0000e+00\n",
      "Epoch 77/100\n",
      "13/13 [==============================] - 8s 608ms/step - loss: 0.6973 - accuracy: 0.0000e+00 - val_loss: 0.6940 - val_accuracy: 0.0000e+00\n",
      "Epoch 78/100\n",
      "13/13 [==============================] - 8s 608ms/step - loss: 0.6943 - accuracy: 0.0000e+00 - val_loss: 0.6933 - val_accuracy: 0.0000e+00\n",
      "Epoch 79/100\n",
      "13/13 [==============================] - 8s 607ms/step - loss: 0.6958 - accuracy: 0.0000e+00 - val_loss: 0.6937 - val_accuracy: 0.0000e+00\n",
      "Epoch 80/100\n",
      "13/13 [==============================] - 8s 607ms/step - loss: 0.6944 - accuracy: 0.0000e+00 - val_loss: 0.6935 - val_accuracy: 0.0000e+00\n",
      "Epoch 81/100\n",
      "13/13 [==============================] - 8s 608ms/step - loss: 0.6940 - accuracy: 0.0000e+00 - val_loss: 0.6939 - val_accuracy: 0.0000e+00\n",
      "Epoch 82/100\n",
      "13/13 [==============================] - 8s 608ms/step - loss: 0.6949 - accuracy: 0.0000e+00 - val_loss: 0.6932 - val_accuracy: 0.0000e+00\n",
      "Epoch 83/100\n",
      "13/13 [==============================] - 8s 607ms/step - loss: 0.6955 - accuracy: 0.0000e+00 - val_loss: 0.6933 - val_accuracy: 0.0000e+00\n",
      "Epoch 84/100\n",
      "13/13 [==============================] - 8s 608ms/step - loss: 0.6941 - accuracy: 0.0000e+00 - val_loss: 0.6931 - val_accuracy: 0.0000e+00\n",
      "Epoch 85/100\n",
      "13/13 [==============================] - 8s 608ms/step - loss: 0.6942 - accuracy: 0.0000e+00 - val_loss: 0.6931 - val_accuracy: 0.0000e+00\n",
      "Epoch 86/100\n",
      "13/13 [==============================] - 8s 608ms/step - loss: 0.6961 - accuracy: 0.0000e+00 - val_loss: 0.6943 - val_accuracy: 0.0000e+00\n",
      "Epoch 87/100\n",
      "13/13 [==============================] - 8s 608ms/step - loss: 0.6926 - accuracy: 0.0000e+00 - val_loss: 0.6946 - val_accuracy: 0.0000e+00\n",
      "Epoch 88/100\n",
      "13/13 [==============================] - 8s 608ms/step - loss: 0.6956 - accuracy: 0.0000e+00 - val_loss: 0.6932 - val_accuracy: 0.0000e+00\n",
      "Epoch 89/100\n",
      "13/13 [==============================] - 8s 607ms/step - loss: 0.6932 - accuracy: 0.0000e+00 - val_loss: 0.6939 - val_accuracy: 0.0000e+00\n",
      "Epoch 90/100\n",
      "13/13 [==============================] - 8s 607ms/step - loss: 0.6942 - accuracy: 0.0000e+00 - val_loss: 0.6933 - val_accuracy: 0.0000e+00\n",
      "Epoch 91/100\n",
      "13/13 [==============================] - 8s 607ms/step - loss: 0.6948 - accuracy: 0.0000e+00 - val_loss: 0.6939 - val_accuracy: 0.0000e+00\n",
      "Epoch 92/100\n",
      "13/13 [==============================] - 8s 608ms/step - loss: 0.6952 - accuracy: 0.0000e+00 - val_loss: 0.6934 - val_accuracy: 0.0000e+00\n",
      "Epoch 93/100\n",
      "13/13 [==============================] - 8s 608ms/step - loss: 0.6938 - accuracy: 0.0000e+00 - val_loss: 0.6932 - val_accuracy: 0.0000e+00\n",
      "Epoch 94/100\n",
      "13/13 [==============================] - 8s 608ms/step - loss: 0.6947 - accuracy: 0.0000e+00 - val_loss: 0.6933 - val_accuracy: 0.0000e+00\n",
      "Epoch 95/100\n",
      "13/13 [==============================] - 8s 608ms/step - loss: 0.6968 - accuracy: 0.0000e+00 - val_loss: 0.6937 - val_accuracy: 0.0000e+00\n",
      "Epoch 96/100\n",
      "13/13 [==============================] - 8s 609ms/step - loss: 0.6956 - accuracy: 0.0000e+00 - val_loss: 0.6934 - val_accuracy: 0.0000e+00\n",
      "Epoch 97/100\n",
      "13/13 [==============================] - 8s 608ms/step - loss: 0.6951 - accuracy: 0.0000e+00 - val_loss: 0.6934 - val_accuracy: 0.0000e+00\n",
      "Epoch 98/100\n",
      "13/13 [==============================] - 8s 608ms/step - loss: 0.6978 - accuracy: 0.0000e+00 - val_loss: 0.6937 - val_accuracy: 0.0000e+00\n",
      "Epoch 99/100\n",
      "13/13 [==============================] - 8s 607ms/step - loss: 0.6943 - accuracy: 0.0000e+00 - val_loss: 0.6935 - val_accuracy: 0.0000e+00\n",
      "Epoch 100/100\n",
      "13/13 [==============================] - 8s 607ms/step - loss: 0.6959 - accuracy: 0.0000e+00 - val_loss: 0.6939 - val_accuracy: 0.0000e+00\n"
     ]
    }
   ],
   "source": [
    "epoch = 100\n",
    "\n",
    "history = fullModel.fit_generator(\n",
    "    train_generator,\n",
    "    validation_data=validation_generator,\n",
    "    epochs=epoch,\n",
    "    verbose=False\n",
    ")"
   ]
  },
  {
   "cell_type": "code",
   "execution_count": 56,
   "metadata": {},
   "outputs": [
    {
     "data": {
      "image/png": "[encoded data removed]",
      "image/svg+xml": "<?xml version=\"1.0\" encoding=\"utf-8\" standalone=\"no\"?>\r\n<!DOCTYPE svg PUBLIC \"-//W3C//DTD SVG 1.1//EN\"\r\n  \"http://www.w3.org/Graphics/SVG/1.1/DTD/svg11.dtd\">\r\n<!-- Created with matplotlib (https://matplotlib.org/) -->\r\n<svg height=\"248.518125pt\" version=\"1.1\" viewBox=\"0 0 381.65 248.518125\" width=\"381.65pt\" xmlns=\"http://www.w3.org/2000/svg\" xmlns:xlink=\"http://www.w3.org/1999/xlink\">\r\n <metadata>\r\n  <rdf:RDF xmlns:cc=\"http://creativecommons.org/ns#\" xmlns:dc=\"http://purl.org/dc/elements/1.1/\" xmlns:rdf=\"http://www.w3.org/1999/02/22-rdf-syntax-ns#\">\r\n   <cc:Work>\r\n    <dc:type rdf:resource=\"http://purl.org/dc/dcmitype/StillImage\"/>\r\n    <dc:date>2021-06-28T23:40:57.241755</dc:date>\r\n    <dc:format>image/svg+xml</dc:format>\r\n    <dc:creator>\r\n     <cc:Agent>\r\n      <dc:title>Matplotlib v3.3.4, https://matplotlib.org/</dc:title>\r\n     </cc:Agent>\r\n    </dc:creator>\r\n   </cc:Work>\r\n  </rdf:RDF>\r\n </metadata>\r\n <defs>\r\n  <style type=\"text/css\">*{stroke-linecap:butt;stroke-linejoin:round;}</style>\r\n </defs>\r\n <g id=\"figure_1\">\r\n  <g id=\"patch_1\">\r\n   <path d=\"M -0 248.518125 \r\nL 381.65 248.518125 \r\nL 381.65 0 \r\nL -0 0 \r\nz\r\n\" style=\"fill:none;\"/>\r\n  </g>\r\n  <g id=\"axes_1\">\r\n   <g id=\"patch_2\">\r\n    <path d=\"M 39.65 224.64 \r\nL 374.45 224.64 \r\nL 374.45 7.2 \r\nL 39.65 7.2 \r\nz\r\n\" style=\"fill:#ffffff;\"/>\r\n   </g>\r\n   <g id=\"matplotlib.axis_1\">\r\n    <g id=\"xtick_1\">\r\n     <g id=\"line2d_1\">\r\n      <defs>\r\n       <path d=\"M 0 0 \r\nL 0 3.5 \r\n\" id=\"m2d9bd017f5\" style=\"stroke:#000000;stroke-width:0.8;\"/>\r\n      </defs>\r\n      <g>\r\n       <use style=\"stroke:#000000;stroke-width:0.8;\" x=\"54.868182\" xlink:href=\"#m2d9bd017f5\" y=\"224.64\"/>\r\n      </g>\r\n     </g>\r\n     <g id=\"text_1\">\r\n      <!-- 0 -->\r\n      <g transform=\"translate(51.686932 239.238437)scale(0.1 -0.1)\">\r\n       <defs>\r\n        <path d=\"M 31.78125 66.40625 \r\nQ 24.171875 66.40625 20.328125 58.90625 \r\nQ 16.5 51.421875 16.5 36.375 \r\nQ 16.5 21.390625 20.328125 13.890625 \r\nQ 24.171875 6.390625 31.78125 6.390625 \r\nQ 39.453125 6.390625 43.28125 13.890625 \r\nQ 47.125 21.390625 47.125 36.375 \r\nQ 47.125 51.421875 43.28125 58.90625 \r\nQ 39.453125 66.40625 31.78125 66.40625 \r\nz\r\nM 31.78125 74.21875 \r\nQ 44.046875 74.21875 50.515625 64.515625 \r\nQ 56.984375 54.828125 56.984375 36.375 \r\nQ 56.984375 17.96875 50.515625 8.265625 \r\nQ 44.046875 -1.421875 31.78125 -1.421875 \r\nQ 19.53125 -1.421875 13.0625 8.265625 \r\nQ 6.59375 17.96875 6.59375 36.375 \r\nQ 6.59375 54.828125 13.0625 64.515625 \r\nQ 19.53125 74.21875 31.78125 74.21875 \r\nz\r\n\" id=\"DejaVuSans-48\"/>\r\n       </defs>\r\n       <use xlink:href=\"#DejaVuSans-48\"/>\r\n      </g>\r\n     </g>\r\n    </g>\r\n    <g id=\"xtick_2\">\r\n     <g id=\"line2d_2\">\r\n      <g>\r\n       <use style=\"stroke:#000000;stroke-width:0.8;\" x=\"116.355785\" xlink:href=\"#m2d9bd017f5\" y=\"224.64\"/>\r\n      </g>\r\n     </g>\r\n     <g id=\"text_2\">\r\n      <!-- 20 -->\r\n      <g transform=\"translate(109.993285 239.238437)scale(0.1 -0.1)\">\r\n       <defs>\r\n        <path d=\"M 19.1875 8.296875 \r\nL 53.609375 8.296875 \r\nL 53.609375 0 \r\nL 7.328125 0 \r\nL 7.328125 8.296875 \r\nQ 12.9375 14.109375 22.625 23.890625 \r\nQ 32.328125 33.6875 34.8125 36.53125 \r\nQ 39.546875 41.84375 41.421875 45.53125 \r\nQ 43.3125 49.21875 43.3125 52.78125 \r\nQ 43.3125 58.59375 39.234375 62.25 \r\nQ 35.15625 65.921875 28.609375 65.921875 \r\nQ 23.96875 65.921875 18.8125 64.3125 \r\nQ 13.671875 62.703125 7.8125 59.421875 \r\nL 7.8125 69.390625 \r\nQ 13.765625 71.78125 18.9375 73 \r\nQ 24.125 74.21875 28.421875 74.21875 \r\nQ 39.75 74.21875 46.484375 68.546875 \r\nQ 53.21875 62.890625 53.21875 53.421875 \r\nQ 53.21875 48.921875 51.53125 44.890625 \r\nQ 49.859375 40.875 45.40625 35.40625 \r\nQ 44.1875 33.984375 37.640625 27.21875 \r\nQ 31.109375 20.453125 19.1875 8.296875 \r\nz\r\n\" id=\"DejaVuSans-50\"/>\r\n       </defs>\r\n       <use xlink:href=\"#DejaVuSans-50\"/>\r\n       <use x=\"63.623047\" xlink:href=\"#DejaVuSans-48\"/>\r\n      </g>\r\n     </g>\r\n    </g>\r\n    <g id=\"xtick_3\">\r\n     <g id=\"line2d_3\">\r\n      <g>\r\n       <use style=\"stroke:#000000;stroke-width:0.8;\" x=\"177.843388\" xlink:href=\"#m2d9bd017f5\" y=\"224.64\"/>\r\n      </g>\r\n     </g>\r\n     <g id=\"text_3\">\r\n      <!-- 40 -->\r\n      <g transform=\"translate(171.480888 239.238437)scale(0.1 -0.1)\">\r\n       <defs>\r\n        <path d=\"M 37.796875 64.3125 \r\nL 12.890625 25.390625 \r\nL 37.796875 25.390625 \r\nz\r\nM 35.203125 72.90625 \r\nL 47.609375 72.90625 \r\nL 47.609375 25.390625 \r\nL 58.015625 25.390625 \r\nL 58.015625 17.1875 \r\nL 47.609375 17.1875 \r\nL 47.609375 0 \r\nL 37.796875 0 \r\nL 37.796875 17.1875 \r\nL 4.890625 17.1875 \r\nL 4.890625 26.703125 \r\nz\r\n\" id=\"DejaVuSans-52\"/>\r\n       </defs>\r\n       <use xlink:href=\"#DejaVuSans-52\"/>\r\n       <use x=\"63.623047\" xlink:href=\"#DejaVuSans-48\"/>\r\n      </g>\r\n     </g>\r\n    </g>\r\n    <g id=\"xtick_4\">\r\n     <g id=\"line2d_4\">\r\n      <g>\r\n       <use style=\"stroke:#000000;stroke-width:0.8;\" x=\"239.330992\" xlink:href=\"#m2d9bd017f5\" y=\"224.64\"/>\r\n      </g>\r\n     </g>\r\n     <g id=\"text_4\">\r\n      <!-- 60 -->\r\n      <g transform=\"translate(232.968492 239.238437)scale(0.1 -0.1)\">\r\n       <defs>\r\n        <path d=\"M 33.015625 40.375 \r\nQ 26.375 40.375 22.484375 35.828125 \r\nQ 18.609375 31.296875 18.609375 23.390625 \r\nQ 18.609375 15.53125 22.484375 10.953125 \r\nQ 26.375 6.390625 33.015625 6.390625 \r\nQ 39.65625 6.390625 43.53125 10.953125 \r\nQ 47.40625 15.53125 47.40625 23.390625 \r\nQ 47.40625 31.296875 43.53125 35.828125 \r\nQ 39.65625 40.375 33.015625 40.375 \r\nz\r\nM 52.59375 71.296875 \r\nL 52.59375 62.3125 \r\nQ 48.875 64.0625 45.09375 64.984375 \r\nQ 41.3125 65.921875 37.59375 65.921875 \r\nQ 27.828125 65.921875 22.671875 59.328125 \r\nQ 17.53125 52.734375 16.796875 39.40625 \r\nQ 19.671875 43.65625 24.015625 45.921875 \r\nQ 28.375 48.1875 33.59375 48.1875 \r\nQ 44.578125 48.1875 50.953125 41.515625 \r\nQ 57.328125 34.859375 57.328125 23.390625 \r\nQ 57.328125 12.15625 50.6875 5.359375 \r\nQ 44.046875 -1.421875 33.015625 -1.421875 \r\nQ 20.359375 -1.421875 13.671875 8.265625 \r\nQ 6.984375 17.96875 6.984375 36.375 \r\nQ 6.984375 53.65625 15.1875 63.9375 \r\nQ 23.390625 74.21875 37.203125 74.21875 \r\nQ 40.921875 74.21875 44.703125 73.484375 \r\nQ 48.484375 72.75 52.59375 71.296875 \r\nz\r\n\" id=\"DejaVuSans-54\"/>\r\n       </defs>\r\n       <use xlink:href=\"#DejaVuSans-54\"/>\r\n       <use x=\"63.623047\" xlink:href=\"#DejaVuSans-48\"/>\r\n      </g>\r\n     </g>\r\n    </g>\r\n    <g id=\"xtick_5\">\r\n     <g id=\"line2d_5\">\r\n      <g>\r\n       <use style=\"stroke:#000000;stroke-width:0.8;\" x=\"300.818595\" xlink:href=\"#m2d9bd017f5\" y=\"224.64\"/>\r\n      </g>\r\n     </g>\r\n     <g id=\"text_5\">\r\n      <!-- 80 -->\r\n      <g transform=\"translate(294.456095 239.238437)scale(0.1 -0.1)\">\r\n       <defs>\r\n        <path d=\"M 31.78125 34.625 \r\nQ 24.75 34.625 20.71875 30.859375 \r\nQ 16.703125 27.09375 16.703125 20.515625 \r\nQ 16.703125 13.921875 20.71875 10.15625 \r\nQ 24.75 6.390625 31.78125 6.390625 \r\nQ 38.8125 6.390625 42.859375 10.171875 \r\nQ 46.921875 13.96875 46.921875 20.515625 \r\nQ 46.921875 27.09375 42.890625 30.859375 \r\nQ 38.875 34.625 31.78125 34.625 \r\nz\r\nM 21.921875 38.8125 \r\nQ 15.578125 40.375 12.03125 44.71875 \r\nQ 8.5 49.078125 8.5 55.328125 \r\nQ 8.5 64.0625 14.71875 69.140625 \r\nQ 20.953125 74.21875 31.78125 74.21875 \r\nQ 42.671875 74.21875 48.875 69.140625 \r\nQ 55.078125 64.0625 55.078125 55.328125 \r\nQ 55.078125 49.078125 51.53125 44.71875 \r\nQ 48 40.375 41.703125 38.8125 \r\nQ 48.828125 37.15625 52.796875 32.3125 \r\nQ 56.78125 27.484375 56.78125 20.515625 \r\nQ 56.78125 9.90625 50.3125 4.234375 \r\nQ 43.84375 -1.421875 31.78125 -1.421875 \r\nQ 19.734375 -1.421875 13.25 4.234375 \r\nQ 6.78125 9.90625 6.78125 20.515625 \r\nQ 6.78125 27.484375 10.78125 32.3125 \r\nQ 14.796875 37.15625 21.921875 38.8125 \r\nz\r\nM 18.3125 54.390625 \r\nQ 18.3125 48.734375 21.84375 45.5625 \r\nQ 25.390625 42.390625 31.78125 42.390625 \r\nQ 38.140625 42.390625 41.71875 45.5625 \r\nQ 45.3125 48.734375 45.3125 54.390625 \r\nQ 45.3125 60.0625 41.71875 63.234375 \r\nQ 38.140625 66.40625 31.78125 66.40625 \r\nQ 25.390625 66.40625 21.84375 63.234375 \r\nQ 18.3125 60.0625 18.3125 54.390625 \r\nz\r\n\" id=\"DejaVuSans-56\"/>\r\n       </defs>\r\n       <use xlink:href=\"#DejaVuSans-56\"/>\r\n       <use x=\"63.623047\" xlink:href=\"#DejaVuSans-48\"/>\r\n      </g>\r\n     </g>\r\n    </g>\r\n    <g id=\"xtick_6\">\r\n     <g id=\"line2d_6\">\r\n      <g>\r\n       <use style=\"stroke:#000000;stroke-width:0.8;\" x=\"362.306198\" xlink:href=\"#m2d9bd017f5\" y=\"224.64\"/>\r\n      </g>\r\n     </g>\r\n     <g id=\"text_6\">\r\n      <!-- 100 -->\r\n      <g transform=\"translate(352.762448 239.238437)scale(0.1 -0.1)\">\r\n       <defs>\r\n        <path d=\"M 12.40625 8.296875 \r\nL 28.515625 8.296875 \r\nL 28.515625 63.921875 \r\nL 10.984375 60.40625 \r\nL 10.984375 69.390625 \r\nL 28.421875 72.90625 \r\nL 38.28125 72.90625 \r\nL 38.28125 8.296875 \r\nL 54.390625 8.296875 \r\nL 54.390625 0 \r\nL 12.40625 0 \r\nz\r\n\" id=\"DejaVuSans-49\"/>\r\n       </defs>\r\n       <use xlink:href=\"#DejaVuSans-49\"/>\r\n       <use x=\"63.623047\" xlink:href=\"#DejaVuSans-48\"/>\r\n       <use x=\"127.246094\" xlink:href=\"#DejaVuSans-48\"/>\r\n      </g>\r\n     </g>\r\n    </g>\r\n   </g>\r\n   <g id=\"matplotlib.axis_2\">\r\n    <g id=\"ytick_1\">\r\n     <g id=\"line2d_7\">\r\n      <defs>\r\n       <path d=\"M 0 0 \r\nL -3.5 0 \r\n\" id=\"m80d988e55c\" style=\"stroke:#000000;stroke-width:0.8;\"/>\r\n      </defs>\r\n      <g>\r\n       <use style=\"stroke:#000000;stroke-width:0.8;\" x=\"39.65\" xlink:href=\"#m80d988e55c\" y=\"214.895524\"/>\r\n      </g>\r\n     </g>\r\n     <g id=\"text_7\">\r\n      <!-- 0 -->\r\n      <g transform=\"translate(26.2875 218.694743)scale(0.1 -0.1)\">\r\n       <use xlink:href=\"#DejaVuSans-48\"/>\r\n      </g>\r\n     </g>\r\n    </g>\r\n    <g id=\"ytick_2\">\r\n     <g id=\"line2d_8\">\r\n      <g>\r\n       <use style=\"stroke:#000000;stroke-width:0.8;\" x=\"39.65\" xlink:href=\"#m80d988e55c\" y=\"174.709143\"/>\r\n      </g>\r\n     </g>\r\n     <g id=\"text_8\">\r\n      <!-- 200 -->\r\n      <g transform=\"translate(13.5625 178.508362)scale(0.1 -0.1)\">\r\n       <use xlink:href=\"#DejaVuSans-50\"/>\r\n       <use x=\"63.623047\" xlink:href=\"#DejaVuSans-48\"/>\r\n       <use x=\"127.246094\" xlink:href=\"#DejaVuSans-48\"/>\r\n      </g>\r\n     </g>\r\n    </g>\r\n    <g id=\"ytick_3\">\r\n     <g id=\"line2d_9\">\r\n      <g>\r\n       <use style=\"stroke:#000000;stroke-width:0.8;\" x=\"39.65\" xlink:href=\"#m80d988e55c\" y=\"134.522761\"/>\r\n      </g>\r\n     </g>\r\n     <g id=\"text_9\">\r\n      <!-- 400 -->\r\n      <g transform=\"translate(13.5625 138.32198)scale(0.1 -0.1)\">\r\n       <use xlink:href=\"#DejaVuSans-52\"/>\r\n       <use x=\"63.623047\" xlink:href=\"#DejaVuSans-48\"/>\r\n       <use x=\"127.246094\" xlink:href=\"#DejaVuSans-48\"/>\r\n      </g>\r\n     </g>\r\n    </g>\r\n    <g id=\"ytick_4\">\r\n     <g id=\"line2d_10\">\r\n      <g>\r\n       <use style=\"stroke:#000000;stroke-width:0.8;\" x=\"39.65\" xlink:href=\"#m80d988e55c\" y=\"94.336379\"/>\r\n      </g>\r\n     </g>\r\n     <g id=\"text_10\">\r\n      <!-- 600 -->\r\n      <g transform=\"translate(13.5625 98.135598)scale(0.1 -0.1)\">\r\n       <use xlink:href=\"#DejaVuSans-54\"/>\r\n       <use x=\"63.623047\" xlink:href=\"#DejaVuSans-48\"/>\r\n       <use x=\"127.246094\" xlink:href=\"#DejaVuSans-48\"/>\r\n      </g>\r\n     </g>\r\n    </g>\r\n    <g id=\"ytick_5\">\r\n     <g id=\"line2d_11\">\r\n      <g>\r\n       <use style=\"stroke:#000000;stroke-width:0.8;\" x=\"39.65\" xlink:href=\"#m80d988e55c\" y=\"54.149998\"/>\r\n      </g>\r\n     </g>\r\n     <g id=\"text_11\">\r\n      <!-- 800 -->\r\n      <g transform=\"translate(13.5625 57.949216)scale(0.1 -0.1)\">\r\n       <use xlink:href=\"#DejaVuSans-56\"/>\r\n       <use x=\"63.623047\" xlink:href=\"#DejaVuSans-48\"/>\r\n       <use x=\"127.246094\" xlink:href=\"#DejaVuSans-48\"/>\r\n      </g>\r\n     </g>\r\n    </g>\r\n    <g id=\"ytick_6\">\r\n     <g id=\"line2d_12\">\r\n      <g>\r\n       <use style=\"stroke:#000000;stroke-width:0.8;\" x=\"39.65\" xlink:href=\"#m80d988e55c\" y=\"13.963616\"/>\r\n      </g>\r\n     </g>\r\n     <g id=\"text_12\">\r\n      <!-- 1000 -->\r\n      <g transform=\"translate(7.2 17.762835)scale(0.1 -0.1)\">\r\n       <use xlink:href=\"#DejaVuSans-49\"/>\r\n       <use x=\"63.623047\" xlink:href=\"#DejaVuSans-48\"/>\r\n       <use x=\"127.246094\" xlink:href=\"#DejaVuSans-48\"/>\r\n       <use x=\"190.869141\" xlink:href=\"#DejaVuSans-48\"/>\r\n      </g>\r\n     </g>\r\n    </g>\r\n   </g>\r\n   <g id=\"line2d_13\">\r\n    <path clip-path=\"url(#pac091efaa5)\" d=\"M 54.868182 17.083636 \r\nL 57.942562 214.699107 \r\nL 61.016942 214.752716 \r\nL 64.091322 214.75594 \r\nL 67.165702 214.756169 \r\nL 70.240083 214.755935 \r\nL 73.314463 214.755769 \r\nL 76.388843 214.756186 \r\nL 79.463223 214.756135 \r\nL 82.537603 214.755916 \r\nL 85.611983 214.756311 \r\nL 88.686364 214.755949 \r\nL 91.760744 214.755885 \r\nL 94.835124 214.75579 \r\nL 97.909504 214.75573 \r\nL 100.983884 214.75546 \r\nL 104.058264 214.756107 \r\nL 107.132645 214.755324 \r\nL 110.207025 214.756194 \r\nL 113.281405 214.755847 \r\nL 116.355785 214.75616 \r\nL 119.430165 214.755993 \r\nL 122.504545 214.75615 \r\nL 125.578926 214.755653 \r\nL 128.653306 214.75625 \r\nL 131.727686 214.756073 \r\nL 134.802066 214.755954 \r\nL 137.876446 214.75615 \r\nL 140.950826 214.756139 \r\nL 144.025207 214.75616 \r\nL 147.099587 214.75595 \r\nL 150.173967 214.756311 \r\nL 153.248347 214.755966 \r\nL 156.322727 214.756077 \r\nL 159.397107 214.755969 \r\nL 162.471488 214.754744 \r\nL 165.545868 214.755869 \r\nL 168.620248 214.756035 \r\nL 171.694628 214.7558 \r\nL 174.769008 214.756043 \r\nL 177.843388 214.755866 \r\nL 180.917769 214.755157 \r\nL 183.992149 214.755355 \r\nL 187.066529 214.755945 \r\nL 190.140909 214.7561 \r\nL 193.215289 214.755978 \r\nL 196.289669 214.755607 \r\nL 199.36405 214.755653 \r\nL 202.43843 214.75605 \r\nL 205.51281 214.755423 \r\nL 208.58719 214.755983 \r\nL 211.66157 214.755769 \r\nL 214.73595 214.756211 \r\nL 217.810331 214.756009 \r\nL 220.884711 214.755377 \r\nL 223.959091 214.755488 \r\nL 227.033471 214.756054 \r\nL 230.107851 214.755945 \r\nL 233.182231 214.755902 \r\nL 236.256612 214.756171 \r\nL 239.330992 214.755748 \r\nL 242.405372 214.755714 \r\nL 245.479752 214.755958 \r\nL 248.554132 214.755936 \r\nL 251.628512 214.756112 \r\nL 254.702893 214.756162 \r\nL 257.777273 214.755951 \r\nL 260.851653 214.756154 \r\nL 263.926033 214.756093 \r\nL 267.000413 214.756104 \r\nL 270.074793 214.755931 \r\nL 273.149174 214.756165 \r\nL 276.223554 214.75538 \r\nL 279.297934 214.755632 \r\nL 282.372314 214.756129 \r\nL 285.446694 214.756228 \r\nL 288.521074 214.755479 \r\nL 291.595455 214.755977 \r\nL 294.669835 214.755622 \r\nL 297.744215 214.755906 \r\nL 300.818595 214.756075 \r\nL 303.892975 214.755909 \r\nL 306.967355 214.755832 \r\nL 310.041736 214.756071 \r\nL 313.116116 214.756033 \r\nL 316.190496 214.755607 \r\nL 319.264876 214.756364 \r\nL 322.339256 214.755931 \r\nL 325.413636 214.756232 \r\nL 328.488017 214.756022 \r\nL 331.562397 214.755934 \r\nL 334.636777 214.755898 \r\nL 337.711157 214.756122 \r\nL 340.785537 214.755887 \r\nL 343.859917 214.7555 \r\nL 346.934298 214.75574 \r\nL 350.008678 214.755772 \r\nL 353.083058 214.755252 \r\nL 356.157438 214.755999 \r\nL 359.231818 214.755774 \r\n\" style=\"fill:none;stroke:#ff0000;stroke-linecap:square;stroke-width:1.5;\"/>\r\n   </g>\r\n   <g id=\"line2d_14\">\r\n    <path clip-path=\"url(#pac091efaa5)\" d=\"M 54.868182 214.754119 \r\nL 57.942562 214.753901 \r\nL 61.016942 214.756105 \r\nL 64.091322 214.756142 \r\nL 67.165702 214.75624 \r\nL 70.240083 214.756195 \r\nL 73.314463 214.756247 \r\nL 76.388843 214.756248 \r\nL 79.463223 214.756241 \r\nL 82.537603 214.756229 \r\nL 85.611983 214.75614 \r\nL 88.686364 214.756241 \r\nL 91.760744 214.756136 \r\nL 94.835124 214.75622 \r\nL 97.909504 214.756152 \r\nL 100.983884 214.755981 \r\nL 104.058264 214.756243 \r\nL 107.132645 214.755876 \r\nL 110.207025 214.756237 \r\nL 113.281405 214.756243 \r\nL 116.355785 214.756247 \r\nL 119.430165 214.756201 \r\nL 122.504545 214.75622 \r\nL 125.578926 214.756153 \r\nL 128.653306 214.756232 \r\nL 131.727686 214.756229 \r\nL 134.802066 214.756182 \r\nL 137.876446 214.75623 \r\nL 140.950826 214.756239 \r\nL 144.025207 214.756248 \r\nL 147.099587 214.756217 \r\nL 150.173967 214.756199 \r\nL 153.248347 214.756218 \r\nL 156.322727 214.756122 \r\nL 159.397107 214.756198 \r\nL 162.471488 214.756167 \r\nL 165.545868 214.755768 \r\nL 168.620248 214.756224 \r\nL 171.694628 214.756156 \r\nL 174.769008 214.756215 \r\nL 177.843388 214.756169 \r\nL 180.917769 214.756156 \r\nL 183.992149 214.755934 \r\nL 187.066529 214.756215 \r\nL 190.140909 214.75624 \r\nL 193.215289 214.756248 \r\nL 196.289669 214.756248 \r\nL 199.36405 214.756041 \r\nL 202.43843 214.756163 \r\nL 205.51281 214.756222 \r\nL 208.58719 214.756242 \r\nL 211.66157 214.756233 \r\nL 214.73595 214.756079 \r\nL 217.810331 214.756184 \r\nL 220.884711 214.755857 \r\nL 223.959091 214.755983 \r\nL 227.033471 214.756154 \r\nL 230.107851 214.756232 \r\nL 233.182231 214.756216 \r\nL 236.256612 214.756249 \r\nL 239.330992 214.756092 \r\nL 242.405372 214.756087 \r\nL 245.479752 214.756238 \r\nL 248.554132 214.756173 \r\nL 251.628512 214.75622 \r\nL 254.702893 214.756205 \r\nL 257.777273 214.756248 \r\nL 260.851653 214.756249 \r\nL 263.926033 214.756196 \r\nL 267.000413 214.756241 \r\nL 270.074793 214.756225 \r\nL 273.149174 214.756172 \r\nL 276.223554 214.756048 \r\nL 279.297934 214.75604 \r\nL 282.372314 214.756247 \r\nL 285.446694 214.756085 \r\nL 288.521074 214.756083 \r\nL 291.595455 214.756225 \r\nL 294.669835 214.75614 \r\nL 297.744215 214.756181 \r\nL 300.818595 214.756104 \r\nL 303.892975 214.756244 \r\nL 306.967355 214.756213 \r\nL 310.041736 214.756249 \r\nL 313.116116 214.756249 \r\nL 316.190496 214.756024 \r\nL 319.264876 214.755952 \r\nL 322.339256 214.756246 \r\nL 325.413636 214.756095 \r\nL 328.488017 214.756219 \r\nL 331.562397 214.756089 \r\nL 334.636777 214.756192 \r\nL 337.711157 214.756235 \r\nL 340.785537 214.756228 \r\nL 343.859917 214.756145 \r\nL 346.934298 214.756192 \r\nL 350.008678 214.756207 \r\nL 353.083058 214.756142 \r\nL 356.157438 214.756179 \r\nL 359.231818 214.756102 \r\n\" style=\"fill:none;stroke:#0000ff;stroke-linecap:square;stroke-width:1.5;\"/>\r\n   </g>\r\n   <g id=\"patch_3\">\r\n    <path d=\"M 39.65 224.64 \r\nL 39.65 7.2 \r\n\" style=\"fill:none;stroke:#000000;stroke-linecap:square;stroke-linejoin:miter;stroke-width:0.8;\"/>\r\n   </g>\r\n   <g id=\"patch_4\">\r\n    <path d=\"M 374.45 224.64 \r\nL 374.45 7.2 \r\n\" style=\"fill:none;stroke:#000000;stroke-linecap:square;stroke-linejoin:miter;stroke-width:0.8;\"/>\r\n   </g>\r\n   <g id=\"patch_5\">\r\n    <path d=\"M 39.65 224.64 \r\nL 374.45 224.64 \r\n\" style=\"fill:none;stroke:#000000;stroke-linecap:square;stroke-linejoin:miter;stroke-width:0.8;\"/>\r\n   </g>\r\n   <g id=\"patch_6\">\r\n    <path d=\"M 39.65 7.2 \r\nL 374.45 7.2 \r\n\" style=\"fill:none;stroke:#000000;stroke-linecap:square;stroke-linejoin:miter;stroke-width:0.8;\"/>\r\n   </g>\r\n  </g>\r\n </g>\r\n <defs>\r\n  <clipPath id=\"pac091efaa5\">\r\n   <rect height=\"217.44\" width=\"334.8\" x=\"39.65\" y=\"7.2\"/>\r\n  </clipPath>\r\n </defs>\r\n</svg>\r\n",
      "text/plain": [
       "<Figure size 432x288 with 1 Axes>"
      ]
     },
     "metadata": {
      "needs_background": "light"
     },
     "output_type": "display_data"
    }
   ],
   "source": [
    "plt.plot(range(len(history.history['loss'])), history.history['loss'], color='red')\n",
    "plt.plot(range(len(history.history['val_loss'])), history.history['val_loss'], color='blue')\n",
    "\n",
    "plt.show()"
   ]
  },
  {
   "cell_type": "code",
   "execution_count": 58,
   "metadata": {},
   "outputs": [
    {
     "data": {
      "image/png": "[encoded data removed]",
      "image/svg+xml": "<?xml version=\"1.0\" encoding=\"utf-8\" standalone=\"no\"?>\r\n<!DOCTYPE svg PUBLIC \"-//W3C//DTD SVG 1.1//EN\"\r\n  \"http://www.w3.org/Graphics/SVG/1.1/DTD/svg11.dtd\">\r\n<!-- Created with matplotlib (https://matplotlib.org/) -->\r\n<svg height=\"248.518125pt\" version=\"1.1\" viewBox=\"0 0 378.465625 248.518125\" width=\"378.465625pt\" xmlns=\"http://www.w3.org/2000/svg\" xmlns:xlink=\"http://www.w3.org/1999/xlink\">\r\n <metadata>\r\n  <rdf:RDF xmlns:cc=\"http://creativecommons.org/ns#\" xmlns:dc=\"http://purl.org/dc/elements/1.1/\" xmlns:rdf=\"http://www.w3.org/1999/02/22-rdf-syntax-ns#\">\r\n   <cc:Work>\r\n    <dc:type rdf:resource=\"http://purl.org/dc/dcmitype/StillImage\"/>\r\n    <dc:date>2021-06-28T23:41:17.748760</dc:date>\r\n    <dc:format>image/svg+xml</dc:format>\r\n    <dc:creator>\r\n     <cc:Agent>\r\n      <dc:title>Matplotlib v3.3.4, https://matplotlib.org/</dc:title>\r\n     </cc:Agent>\r\n    </dc:creator>\r\n   </cc:Work>\r\n  </rdf:RDF>\r\n </metadata>\r\n <defs>\r\n  <style type=\"text/css\">*{stroke-linecap:butt;stroke-linejoin:round;}</style>\r\n </defs>\r\n <g id=\"figure_1\">\r\n  <g id=\"patch_1\">\r\n   <path d=\"M 0 248.518125 \r\nL 378.465625 248.518125 \r\nL 378.465625 0 \r\nL 0 0 \r\nz\r\n\" style=\"fill:none;\"/>\r\n  </g>\r\n  <g id=\"axes_1\">\r\n   <g id=\"patch_2\">\r\n    <path d=\"M 36.465625 224.64 \r\nL 371.265625 224.64 \r\nL 371.265625 7.2 \r\nL 36.465625 7.2 \r\nz\r\n\" style=\"fill:#ffffff;\"/>\r\n   </g>\r\n   <g id=\"matplotlib.axis_1\">\r\n    <g id=\"xtick_1\">\r\n     <g id=\"line2d_1\">\r\n      <defs>\r\n       <path d=\"M 0 0 \r\nL 0 3.5 \r\n\" id=\"m998993eb6b\" style=\"stroke:#000000;stroke-width:0.8;\"/>\r\n      </defs>\r\n      <g>\r\n       <use style=\"stroke:#000000;stroke-width:0.8;\" x=\"51.683807\" xlink:href=\"#m998993eb6b\" y=\"224.64\"/>\r\n      </g>\r\n     </g>\r\n     <g id=\"text_1\">\r\n      <!-- 0 -->\r\n      <g transform=\"translate(48.502557 239.238437)scale(0.1 -0.1)\">\r\n       <defs>\r\n        <path d=\"M 31.78125 66.40625 \r\nQ 24.171875 66.40625 20.328125 58.90625 \r\nQ 16.5 51.421875 16.5 36.375 \r\nQ 16.5 21.390625 20.328125 13.890625 \r\nQ 24.171875 6.390625 31.78125 6.390625 \r\nQ 39.453125 6.390625 43.28125 13.890625 \r\nQ 47.125 21.390625 47.125 36.375 \r\nQ 47.125 51.421875 43.28125 58.90625 \r\nQ 39.453125 66.40625 31.78125 66.40625 \r\nz\r\nM 31.78125 74.21875 \r\nQ 44.046875 74.21875 50.515625 64.515625 \r\nQ 56.984375 54.828125 56.984375 36.375 \r\nQ 56.984375 17.96875 50.515625 8.265625 \r\nQ 44.046875 -1.421875 31.78125 -1.421875 \r\nQ 19.53125 -1.421875 13.0625 8.265625 \r\nQ 6.59375 17.96875 6.59375 36.375 \r\nQ 6.59375 54.828125 13.0625 64.515625 \r\nQ 19.53125 74.21875 31.78125 74.21875 \r\nz\r\n\" id=\"DejaVuSans-48\"/>\r\n       </defs>\r\n       <use xlink:href=\"#DejaVuSans-48\"/>\r\n      </g>\r\n     </g>\r\n    </g>\r\n    <g id=\"xtick_2\">\r\n     <g id=\"line2d_2\">\r\n      <g>\r\n       <use style=\"stroke:#000000;stroke-width:0.8;\" x=\"113.17141\" xlink:href=\"#m998993eb6b\" y=\"224.64\"/>\r\n      </g>\r\n     </g>\r\n     <g id=\"text_2\">\r\n      <!-- 20 -->\r\n      <g transform=\"translate(106.80891 239.238437)scale(0.1 -0.1)\">\r\n       <defs>\r\n        <path d=\"M 19.1875 8.296875 \r\nL 53.609375 8.296875 \r\nL 53.609375 0 \r\nL 7.328125 0 \r\nL 7.328125 8.296875 \r\nQ 12.9375 14.109375 22.625 23.890625 \r\nQ 32.328125 33.6875 34.8125 36.53125 \r\nQ 39.546875 41.84375 41.421875 45.53125 \r\nQ 43.3125 49.21875 43.3125 52.78125 \r\nQ 43.3125 58.59375 39.234375 62.25 \r\nQ 35.15625 65.921875 28.609375 65.921875 \r\nQ 23.96875 65.921875 18.8125 64.3125 \r\nQ 13.671875 62.703125 7.8125 59.421875 \r\nL 7.8125 69.390625 \r\nQ 13.765625 71.78125 18.9375 73 \r\nQ 24.125 74.21875 28.421875 74.21875 \r\nQ 39.75 74.21875 46.484375 68.546875 \r\nQ 53.21875 62.890625 53.21875 53.421875 \r\nQ 53.21875 48.921875 51.53125 44.890625 \r\nQ 49.859375 40.875 45.40625 35.40625 \r\nQ 44.1875 33.984375 37.640625 27.21875 \r\nQ 31.109375 20.453125 19.1875 8.296875 \r\nz\r\n\" id=\"DejaVuSans-50\"/>\r\n       </defs>\r\n       <use xlink:href=\"#DejaVuSans-50\"/>\r\n       <use x=\"63.623047\" xlink:href=\"#DejaVuSans-48\"/>\r\n      </g>\r\n     </g>\r\n    </g>\r\n    <g id=\"xtick_3\">\r\n     <g id=\"line2d_3\">\r\n      <g>\r\n       <use style=\"stroke:#000000;stroke-width:0.8;\" x=\"174.659013\" xlink:href=\"#m998993eb6b\" y=\"224.64\"/>\r\n      </g>\r\n     </g>\r\n     <g id=\"text_3\">\r\n      <!-- 40 -->\r\n      <g transform=\"translate(168.296513 239.238437)scale(0.1 -0.1)\">\r\n       <defs>\r\n        <path d=\"M 37.796875 64.3125 \r\nL 12.890625 25.390625 \r\nL 37.796875 25.390625 \r\nz\r\nM 35.203125 72.90625 \r\nL 47.609375 72.90625 \r\nL 47.609375 25.390625 \r\nL 58.015625 25.390625 \r\nL 58.015625 17.1875 \r\nL 47.609375 17.1875 \r\nL 47.609375 0 \r\nL 37.796875 0 \r\nL 37.796875 17.1875 \r\nL 4.890625 17.1875 \r\nL 4.890625 26.703125 \r\nz\r\n\" id=\"DejaVuSans-52\"/>\r\n       </defs>\r\n       <use xlink:href=\"#DejaVuSans-52\"/>\r\n       <use x=\"63.623047\" xlink:href=\"#DejaVuSans-48\"/>\r\n      </g>\r\n     </g>\r\n    </g>\r\n    <g id=\"xtick_4\">\r\n     <g id=\"line2d_4\">\r\n      <g>\r\n       <use style=\"stroke:#000000;stroke-width:0.8;\" x=\"236.146617\" xlink:href=\"#m998993eb6b\" y=\"224.64\"/>\r\n      </g>\r\n     </g>\r\n     <g id=\"text_4\">\r\n      <!-- 60 -->\r\n      <g transform=\"translate(229.784117 239.238437)scale(0.1 -0.1)\">\r\n       <defs>\r\n        <path d=\"M 33.015625 40.375 \r\nQ 26.375 40.375 22.484375 35.828125 \r\nQ 18.609375 31.296875 18.609375 23.390625 \r\nQ 18.609375 15.53125 22.484375 10.953125 \r\nQ 26.375 6.390625 33.015625 6.390625 \r\nQ 39.65625 6.390625 43.53125 10.953125 \r\nQ 47.40625 15.53125 47.40625 23.390625 \r\nQ 47.40625 31.296875 43.53125 35.828125 \r\nQ 39.65625 40.375 33.015625 40.375 \r\nz\r\nM 52.59375 71.296875 \r\nL 52.59375 62.3125 \r\nQ 48.875 64.0625 45.09375 64.984375 \r\nQ 41.3125 65.921875 37.59375 65.921875 \r\nQ 27.828125 65.921875 22.671875 59.328125 \r\nQ 17.53125 52.734375 16.796875 39.40625 \r\nQ 19.671875 43.65625 24.015625 45.921875 \r\nQ 28.375 48.1875 33.59375 48.1875 \r\nQ 44.578125 48.1875 50.953125 41.515625 \r\nQ 57.328125 34.859375 57.328125 23.390625 \r\nQ 57.328125 12.15625 50.6875 5.359375 \r\nQ 44.046875 -1.421875 33.015625 -1.421875 \r\nQ 20.359375 -1.421875 13.671875 8.265625 \r\nQ 6.984375 17.96875 6.984375 36.375 \r\nQ 6.984375 53.65625 15.1875 63.9375 \r\nQ 23.390625 74.21875 37.203125 74.21875 \r\nQ 40.921875 74.21875 44.703125 73.484375 \r\nQ 48.484375 72.75 52.59375 71.296875 \r\nz\r\n\" id=\"DejaVuSans-54\"/>\r\n       </defs>\r\n       <use xlink:href=\"#DejaVuSans-54\"/>\r\n       <use x=\"63.623047\" xlink:href=\"#DejaVuSans-48\"/>\r\n      </g>\r\n     </g>\r\n    </g>\r\n    <g id=\"xtick_5\">\r\n     <g id=\"line2d_5\">\r\n      <g>\r\n       <use style=\"stroke:#000000;stroke-width:0.8;\" x=\"297.63422\" xlink:href=\"#m998993eb6b\" y=\"224.64\"/>\r\n      </g>\r\n     </g>\r\n     <g id=\"text_5\">\r\n      <!-- 80 -->\r\n      <g transform=\"translate(291.27172 239.238437)scale(0.1 -0.1)\">\r\n       <defs>\r\n        <path d=\"M 31.78125 34.625 \r\nQ 24.75 34.625 20.71875 30.859375 \r\nQ 16.703125 27.09375 16.703125 20.515625 \r\nQ 16.703125 13.921875 20.71875 10.15625 \r\nQ 24.75 6.390625 31.78125 6.390625 \r\nQ 38.8125 6.390625 42.859375 10.171875 \r\nQ 46.921875 13.96875 46.921875 20.515625 \r\nQ 46.921875 27.09375 42.890625 30.859375 \r\nQ 38.875 34.625 31.78125 34.625 \r\nz\r\nM 21.921875 38.8125 \r\nQ 15.578125 40.375 12.03125 44.71875 \r\nQ 8.5 49.078125 8.5 55.328125 \r\nQ 8.5 64.0625 14.71875 69.140625 \r\nQ 20.953125 74.21875 31.78125 74.21875 \r\nQ 42.671875 74.21875 48.875 69.140625 \r\nQ 55.078125 64.0625 55.078125 55.328125 \r\nQ 55.078125 49.078125 51.53125 44.71875 \r\nQ 48 40.375 41.703125 38.8125 \r\nQ 48.828125 37.15625 52.796875 32.3125 \r\nQ 56.78125 27.484375 56.78125 20.515625 \r\nQ 56.78125 9.90625 50.3125 4.234375 \r\nQ 43.84375 -1.421875 31.78125 -1.421875 \r\nQ 19.734375 -1.421875 13.25 4.234375 \r\nQ 6.78125 9.90625 6.78125 20.515625 \r\nQ 6.78125 27.484375 10.78125 32.3125 \r\nQ 14.796875 37.15625 21.921875 38.8125 \r\nz\r\nM 18.3125 54.390625 \r\nQ 18.3125 48.734375 21.84375 45.5625 \r\nQ 25.390625 42.390625 31.78125 42.390625 \r\nQ 38.140625 42.390625 41.71875 45.5625 \r\nQ 45.3125 48.734375 45.3125 54.390625 \r\nQ 45.3125 60.0625 41.71875 63.234375 \r\nQ 38.140625 66.40625 31.78125 66.40625 \r\nQ 25.390625 66.40625 21.84375 63.234375 \r\nQ 18.3125 60.0625 18.3125 54.390625 \r\nz\r\n\" id=\"DejaVuSans-56\"/>\r\n       </defs>\r\n       <use xlink:href=\"#DejaVuSans-56\"/>\r\n       <use x=\"63.623047\" xlink:href=\"#DejaVuSans-48\"/>\r\n      </g>\r\n     </g>\r\n    </g>\r\n    <g id=\"xtick_6\">\r\n     <g id=\"line2d_6\">\r\n      <g>\r\n       <use style=\"stroke:#000000;stroke-width:0.8;\" x=\"359.121823\" xlink:href=\"#m998993eb6b\" y=\"224.64\"/>\r\n      </g>\r\n     </g>\r\n     <g id=\"text_6\">\r\n      <!-- 100 -->\r\n      <g transform=\"translate(349.578073 239.238437)scale(0.1 -0.1)\">\r\n       <defs>\r\n        <path d=\"M 12.40625 8.296875 \r\nL 28.515625 8.296875 \r\nL 28.515625 63.921875 \r\nL 10.984375 60.40625 \r\nL 10.984375 69.390625 \r\nL 28.421875 72.90625 \r\nL 38.28125 72.90625 \r\nL 38.28125 8.296875 \r\nL 54.390625 8.296875 \r\nL 54.390625 0 \r\nL 12.40625 0 \r\nz\r\n\" id=\"DejaVuSans-49\"/>\r\n       </defs>\r\n       <use xlink:href=\"#DejaVuSans-49\"/>\r\n       <use x=\"63.623047\" xlink:href=\"#DejaVuSans-48\"/>\r\n       <use x=\"127.246094\" xlink:href=\"#DejaVuSans-48\"/>\r\n      </g>\r\n     </g>\r\n    </g>\r\n   </g>\r\n   <g id=\"matplotlib.axis_2\">\r\n    <g id=\"ytick_1\">\r\n     <g id=\"line2d_7\">\r\n      <defs>\r\n       <path d=\"M 0 0 \r\nL -3.5 0 \r\n\" id=\"m524fe7d10f\" style=\"stroke:#000000;stroke-width:0.8;\"/>\r\n      </defs>\r\n      <g>\r\n       <use style=\"stroke:#000000;stroke-width:0.8;\" x=\"36.465625\" xlink:href=\"#m524fe7d10f\" y=\"214.756364\"/>\r\n      </g>\r\n     </g>\r\n     <g id=\"text_7\">\r\n      <!-- 0.00 -->\r\n      <g transform=\"translate(7.2 218.555582)scale(0.1 -0.1)\">\r\n       <defs>\r\n        <path d=\"M 10.6875 12.40625 \r\nL 21 12.40625 \r\nL 21 0 \r\nL 10.6875 0 \r\nz\r\n\" id=\"DejaVuSans-46\"/>\r\n       </defs>\r\n       <use xlink:href=\"#DejaVuSans-48\"/>\r\n       <use x=\"63.623047\" xlink:href=\"#DejaVuSans-46\"/>\r\n       <use x=\"95.410156\" xlink:href=\"#DejaVuSans-48\"/>\r\n       <use x=\"159.033203\" xlink:href=\"#DejaVuSans-48\"/>\r\n      </g>\r\n     </g>\r\n    </g>\r\n    <g id=\"ytick_2\">\r\n     <g id=\"line2d_8\">\r\n      <g>\r\n       <use style=\"stroke:#000000;stroke-width:0.8;\" x=\"36.465625\" xlink:href=\"#m524fe7d10f\" y=\"180.966153\"/>\r\n      </g>\r\n     </g>\r\n     <g id=\"text_8\">\r\n      <!-- 0.05 -->\r\n      <g transform=\"translate(7.2 184.765371)scale(0.1 -0.1)\">\r\n       <defs>\r\n        <path d=\"M 10.796875 72.90625 \r\nL 49.515625 72.90625 \r\nL 49.515625 64.59375 \r\nL 19.828125 64.59375 \r\nL 19.828125 46.734375 \r\nQ 21.96875 47.46875 24.109375 47.828125 \r\nQ 26.265625 48.1875 28.421875 48.1875 \r\nQ 40.625 48.1875 47.75 41.5 \r\nQ 54.890625 34.8125 54.890625 23.390625 \r\nQ 54.890625 11.625 47.5625 5.09375 \r\nQ 40.234375 -1.421875 26.90625 -1.421875 \r\nQ 22.3125 -1.421875 17.546875 -0.640625 \r\nQ 12.796875 0.140625 7.71875 1.703125 \r\nL 7.71875 11.625 \r\nQ 12.109375 9.234375 16.796875 8.0625 \r\nQ 21.484375 6.890625 26.703125 6.890625 \r\nQ 35.15625 6.890625 40.078125 11.328125 \r\nQ 45.015625 15.765625 45.015625 23.390625 \r\nQ 45.015625 31 40.078125 35.4375 \r\nQ 35.15625 39.890625 26.703125 39.890625 \r\nQ 22.75 39.890625 18.8125 39.015625 \r\nQ 14.890625 38.140625 10.796875 36.28125 \r\nz\r\n\" id=\"DejaVuSans-53\"/>\r\n       </defs>\r\n       <use xlink:href=\"#DejaVuSans-48\"/>\r\n       <use x=\"63.623047\" xlink:href=\"#DejaVuSans-46\"/>\r\n       <use x=\"95.410156\" xlink:href=\"#DejaVuSans-48\"/>\r\n       <use x=\"159.033203\" xlink:href=\"#DejaVuSans-53\"/>\r\n      </g>\r\n     </g>\r\n    </g>\r\n    <g id=\"ytick_3\">\r\n     <g id=\"line2d_9\">\r\n      <g>\r\n       <use style=\"stroke:#000000;stroke-width:0.8;\" x=\"36.465625\" xlink:href=\"#m524fe7d10f\" y=\"147.175942\"/>\r\n      </g>\r\n     </g>\r\n     <g id=\"text_9\">\r\n      <!-- 0.10 -->\r\n      <g transform=\"translate(7.2 150.97516)scale(0.1 -0.1)\">\r\n       <use xlink:href=\"#DejaVuSans-48\"/>\r\n       <use x=\"63.623047\" xlink:href=\"#DejaVuSans-46\"/>\r\n       <use x=\"95.410156\" xlink:href=\"#DejaVuSans-49\"/>\r\n       <use x=\"159.033203\" xlink:href=\"#DejaVuSans-48\"/>\r\n      </g>\r\n     </g>\r\n    </g>\r\n    <g id=\"ytick_4\">\r\n     <g id=\"line2d_10\">\r\n      <g>\r\n       <use style=\"stroke:#000000;stroke-width:0.8;\" x=\"36.465625\" xlink:href=\"#m524fe7d10f\" y=\"113.385731\"/>\r\n      </g>\r\n     </g>\r\n     <g id=\"text_10\">\r\n      <!-- 0.15 -->\r\n      <g transform=\"translate(7.2 117.184949)scale(0.1 -0.1)\">\r\n       <use xlink:href=\"#DejaVuSans-48\"/>\r\n       <use x=\"63.623047\" xlink:href=\"#DejaVuSans-46\"/>\r\n       <use x=\"95.410156\" xlink:href=\"#DejaVuSans-49\"/>\r\n       <use x=\"159.033203\" xlink:href=\"#DejaVuSans-53\"/>\r\n      </g>\r\n     </g>\r\n    </g>\r\n    <g id=\"ytick_5\">\r\n     <g id=\"line2d_11\">\r\n      <g>\r\n       <use style=\"stroke:#000000;stroke-width:0.8;\" x=\"36.465625\" xlink:href=\"#m524fe7d10f\" y=\"79.59552\"/>\r\n      </g>\r\n     </g>\r\n     <g id=\"text_11\">\r\n      <!-- 0.20 -->\r\n      <g transform=\"translate(7.2 83.394738)scale(0.1 -0.1)\">\r\n       <use xlink:href=\"#DejaVuSans-48\"/>\r\n       <use x=\"63.623047\" xlink:href=\"#DejaVuSans-46\"/>\r\n       <use x=\"95.410156\" xlink:href=\"#DejaVuSans-50\"/>\r\n       <use x=\"159.033203\" xlink:href=\"#DejaVuSans-48\"/>\r\n      </g>\r\n     </g>\r\n    </g>\r\n    <g id=\"ytick_6\">\r\n     <g id=\"line2d_12\">\r\n      <g>\r\n       <use style=\"stroke:#000000;stroke-width:0.8;\" x=\"36.465625\" xlink:href=\"#m524fe7d10f\" y=\"45.805308\"/>\r\n      </g>\r\n     </g>\r\n     <g id=\"text_12\">\r\n      <!-- 0.25 -->\r\n      <g transform=\"translate(7.2 49.604527)scale(0.1 -0.1)\">\r\n       <use xlink:href=\"#DejaVuSans-48\"/>\r\n       <use x=\"63.623047\" xlink:href=\"#DejaVuSans-46\"/>\r\n       <use x=\"95.410156\" xlink:href=\"#DejaVuSans-50\"/>\r\n       <use x=\"159.033203\" xlink:href=\"#DejaVuSans-53\"/>\r\n      </g>\r\n     </g>\r\n    </g>\r\n    <g id=\"ytick_7\">\r\n     <g id=\"line2d_13\">\r\n      <g>\r\n       <use style=\"stroke:#000000;stroke-width:0.8;\" x=\"36.465625\" xlink:href=\"#m524fe7d10f\" y=\"12.015097\"/>\r\n      </g>\r\n     </g>\r\n     <g id=\"text_13\">\r\n      <!-- 0.30 -->\r\n      <g transform=\"translate(7.2 15.814316)scale(0.1 -0.1)\">\r\n       <defs>\r\n        <path d=\"M 40.578125 39.3125 \r\nQ 47.65625 37.796875 51.625 33 \r\nQ 55.609375 28.21875 55.609375 21.1875 \r\nQ 55.609375 10.40625 48.1875 4.484375 \r\nQ 40.765625 -1.421875 27.09375 -1.421875 \r\nQ 22.515625 -1.421875 17.65625 -0.515625 \r\nQ 12.796875 0.390625 7.625 2.203125 \r\nL 7.625 11.71875 \r\nQ 11.71875 9.328125 16.59375 8.109375 \r\nQ 21.484375 6.890625 26.8125 6.890625 \r\nQ 36.078125 6.890625 40.9375 10.546875 \r\nQ 45.796875 14.203125 45.796875 21.1875 \r\nQ 45.796875 27.640625 41.28125 31.265625 \r\nQ 36.765625 34.90625 28.71875 34.90625 \r\nL 20.21875 34.90625 \r\nL 20.21875 43.015625 \r\nL 29.109375 43.015625 \r\nQ 36.375 43.015625 40.234375 45.921875 \r\nQ 44.09375 48.828125 44.09375 54.296875 \r\nQ 44.09375 59.90625 40.109375 62.90625 \r\nQ 36.140625 65.921875 28.71875 65.921875 \r\nQ 24.65625 65.921875 20.015625 65.03125 \r\nQ 15.375 64.15625 9.8125 62.3125 \r\nL 9.8125 71.09375 \r\nQ 15.4375 72.65625 20.34375 73.4375 \r\nQ 25.25 74.21875 29.59375 74.21875 \r\nQ 40.828125 74.21875 47.359375 69.109375 \r\nQ 53.90625 64.015625 53.90625 55.328125 \r\nQ 53.90625 49.265625 50.4375 45.09375 \r\nQ 46.96875 40.921875 40.578125 39.3125 \r\nz\r\n\" id=\"DejaVuSans-51\"/>\r\n       </defs>\r\n       <use xlink:href=\"#DejaVuSans-48\"/>\r\n       <use x=\"63.623047\" xlink:href=\"#DejaVuSans-46\"/>\r\n       <use x=\"95.410156\" xlink:href=\"#DejaVuSans-51\"/>\r\n       <use x=\"159.033203\" xlink:href=\"#DejaVuSans-48\"/>\r\n      </g>\r\n     </g>\r\n    </g>\r\n   </g>\r\n   <g id=\"line2d_14\">\r\n    <path clip-path=\"url(#p8b518e8c0f)\" d=\"M 51.683807 17.083636 \r\nL 54.758187 214.756364 \r\nL 57.832567 214.756364 \r\nL 60.906947 214.756364 \r\nL 63.981327 214.756364 \r\nL 67.055708 214.756364 \r\nL 70.130088 214.756364 \r\nL 73.204468 214.756364 \r\nL 76.278848 214.756364 \r\nL 79.353228 214.756364 \r\nL 82.427608 214.756364 \r\nL 85.501989 214.756364 \r\nL 88.576369 214.756364 \r\nL 91.650749 214.756364 \r\nL 94.725129 214.756364 \r\nL 97.799509 214.756364 \r\nL 100.873889 214.756364 \r\nL 103.94827 214.756364 \r\nL 107.02265 214.756364 \r\nL 110.09703 214.756364 \r\nL 113.17141 214.756364 \r\nL 116.24579 214.756364 \r\nL 119.32017 214.756364 \r\nL 122.394551 214.756364 \r\nL 125.468931 214.756364 \r\nL 128.543311 214.756364 \r\nL 131.617691 214.756364 \r\nL 134.692071 214.756364 \r\nL 137.766451 214.756364 \r\nL 140.840832 214.756364 \r\nL 143.915212 214.756364 \r\nL 146.989592 214.756364 \r\nL 150.063972 214.756364 \r\nL 153.138352 214.756364 \r\nL 156.212732 214.756364 \r\nL 159.287113 214.756364 \r\nL 162.361493 214.756364 \r\nL 165.435873 214.756364 \r\nL 168.510253 214.756364 \r\nL 171.584633 214.756364 \r\nL 174.659013 214.756364 \r\nL 177.733394 214.756364 \r\nL 180.807774 214.756364 \r\nL 183.882154 214.756364 \r\nL 186.956534 214.756364 \r\nL 190.030914 214.756364 \r\nL 193.105294 214.756364 \r\nL 196.179675 214.756364 \r\nL 199.254055 214.756364 \r\nL 202.328435 214.756364 \r\nL 205.402815 214.756364 \r\nL 208.477195 214.756364 \r\nL 211.551575 214.756364 \r\nL 214.625956 214.756364 \r\nL 217.700336 214.756364 \r\nL 220.774716 214.756364 \r\nL 223.849096 214.756364 \r\nL 226.923476 214.756364 \r\nL 229.997856 214.756364 \r\nL 233.072237 214.756364 \r\nL 236.146617 214.756364 \r\nL 239.220997 214.756364 \r\nL 242.295377 214.756364 \r\nL 245.369757 214.756364 \r\nL 248.444137 214.756364 \r\nL 251.518518 214.756364 \r\nL 254.592898 214.756364 \r\nL 257.667278 214.756364 \r\nL 260.741658 214.756364 \r\nL 263.816038 214.756364 \r\nL 266.890418 214.756364 \r\nL 269.964799 214.756364 \r\nL 273.039179 214.756364 \r\nL 276.113559 214.756364 \r\nL 279.187939 214.756364 \r\nL 282.262319 214.756364 \r\nL 285.336699 214.756364 \r\nL 288.41108 214.756364 \r\nL 291.48546 214.756364 \r\nL 294.55984 214.756364 \r\nL 297.63422 214.756364 \r\nL 300.7086 214.756364 \r\nL 303.78298 214.756364 \r\nL 306.857361 214.756364 \r\nL 309.931741 214.756364 \r\nL 313.006121 214.756364 \r\nL 316.080501 214.756364 \r\nL 319.154881 214.756364 \r\nL 322.229261 214.756364 \r\nL 325.303642 214.756364 \r\nL 328.378022 214.756364 \r\nL 331.452402 214.756364 \r\nL 334.526782 214.756364 \r\nL 337.601162 214.756364 \r\nL 340.675542 214.756364 \r\nL 343.749923 214.756364 \r\nL 346.824303 214.756364 \r\nL 349.898683 214.756364 \r\nL 352.973063 214.756364 \r\nL 356.047443 214.756364 \r\n\" style=\"fill:none;stroke:#ff0000;stroke-linecap:square;stroke-width:1.5;\"/>\r\n   </g>\r\n   <g id=\"line2d_15\">\r\n    <path clip-path=\"url(#p8b518e8c0f)\" d=\"M 51.683807 214.756364 \r\nL 54.758187 214.756364 \r\nL 57.832567 214.756364 \r\nL 60.906947 214.756364 \r\nL 63.981327 214.756364 \r\nL 67.055708 214.756364 \r\nL 70.130088 214.756364 \r\nL 73.204468 214.756364 \r\nL 76.278848 214.756364 \r\nL 79.353228 214.756364 \r\nL 82.427608 214.756364 \r\nL 85.501989 214.756364 \r\nL 88.576369 214.756364 \r\nL 91.650749 214.756364 \r\nL 94.725129 214.756364 \r\nL 97.799509 214.756364 \r\nL 100.873889 214.756364 \r\nL 103.94827 214.756364 \r\nL 107.02265 214.756364 \r\nL 110.09703 214.756364 \r\nL 113.17141 214.756364 \r\nL 116.24579 214.756364 \r\nL 119.32017 214.756364 \r\nL 122.394551 214.756364 \r\nL 125.468931 214.756364 \r\nL 128.543311 214.756364 \r\nL 131.617691 214.756364 \r\nL 134.692071 214.756364 \r\nL 137.766451 214.756364 \r\nL 140.840832 214.756364 \r\nL 143.915212 214.756364 \r\nL 146.989592 214.756364 \r\nL 150.063972 214.756364 \r\nL 153.138352 214.756364 \r\nL 156.212732 214.756364 \r\nL 159.287113 214.756364 \r\nL 162.361493 214.756364 \r\nL 165.435873 214.756364 \r\nL 168.510253 214.756364 \r\nL 171.584633 214.756364 \r\nL 174.659013 214.756364 \r\nL 177.733394 214.756364 \r\nL 180.807774 214.756364 \r\nL 183.882154 214.756364 \r\nL 186.956534 214.756364 \r\nL 190.030914 214.756364 \r\nL 193.105294 214.756364 \r\nL 196.179675 214.756364 \r\nL 199.254055 214.756364 \r\nL 202.328435 214.756364 \r\nL 205.402815 214.756364 \r\nL 208.477195 214.756364 \r\nL 211.551575 214.756364 \r\nL 214.625956 214.756364 \r\nL 217.700336 214.756364 \r\nL 220.774716 214.756364 \r\nL 223.849096 214.756364 \r\nL 226.923476 214.756364 \r\nL 229.997856 214.756364 \r\nL 233.072237 214.756364 \r\nL 236.146617 214.756364 \r\nL 239.220997 214.756364 \r\nL 242.295377 214.756364 \r\nL 245.369757 214.756364 \r\nL 248.444137 214.756364 \r\nL 251.518518 214.756364 \r\nL 254.592898 214.756364 \r\nL 257.667278 214.756364 \r\nL 260.741658 214.756364 \r\nL 263.816038 214.756364 \r\nL 266.890418 214.756364 \r\nL 269.964799 214.756364 \r\nL 273.039179 214.756364 \r\nL 276.113559 214.756364 \r\nL 279.187939 214.756364 \r\nL 282.262319 214.756364 \r\nL 285.336699 214.756364 \r\nL 288.41108 214.756364 \r\nL 291.48546 214.756364 \r\nL 294.55984 214.756364 \r\nL 297.63422 214.756364 \r\nL 300.7086 214.756364 \r\nL 303.78298 214.756364 \r\nL 306.857361 214.756364 \r\nL 309.931741 214.756364 \r\nL 313.006121 214.756364 \r\nL 316.080501 214.756364 \r\nL 319.154881 214.756364 \r\nL 322.229261 214.756364 \r\nL 325.303642 214.756364 \r\nL 328.378022 214.756364 \r\nL 331.452402 214.756364 \r\nL 334.526782 214.756364 \r\nL 337.601162 214.756364 \r\nL 340.675542 214.756364 \r\nL 343.749923 214.756364 \r\nL 346.824303 214.756364 \r\nL 349.898683 214.756364 \r\nL 352.973063 214.756364 \r\nL 356.047443 214.756364 \r\n\" style=\"fill:none;stroke:#0000ff;stroke-linecap:square;stroke-width:1.5;\"/>\r\n   </g>\r\n   <g id=\"patch_3\">\r\n    <path d=\"M 36.465625 224.64 \r\nL 36.465625 7.2 \r\n\" style=\"fill:none;stroke:#000000;stroke-linecap:square;stroke-linejoin:miter;stroke-width:0.8;\"/>\r\n   </g>\r\n   <g id=\"patch_4\">\r\n    <path d=\"M 371.265625 224.64 \r\nL 371.265625 7.2 \r\n\" style=\"fill:none;stroke:#000000;stroke-linecap:square;stroke-linejoin:miter;stroke-width:0.8;\"/>\r\n   </g>\r\n   <g id=\"patch_5\">\r\n    <path d=\"M 36.465625 224.64 \r\nL 371.265625 224.64 \r\n\" style=\"fill:none;stroke:#000000;stroke-linecap:square;stroke-linejoin:miter;stroke-width:0.8;\"/>\r\n   </g>\r\n   <g id=\"patch_6\">\r\n    <path d=\"M 36.465625 7.2 \r\nL 371.265625 7.2 \r\n\" style=\"fill:none;stroke:#000000;stroke-linecap:square;stroke-linejoin:miter;stroke-width:0.8;\"/>\r\n   </g>\r\n  </g>\r\n </g>\r\n <defs>\r\n  <clipPath id=\"p8b518e8c0f\">\r\n   <rect height=\"217.44\" width=\"334.8\" x=\"36.465625\" y=\"7.2\"/>\r\n  </clipPath>\r\n </defs>\r\n</svg>\r\n",
      "text/plain": [
       "<Figure size 432x288 with 1 Axes>"
      ]
     },
     "metadata": {
      "needs_background": "light"
     },
     "output_type": "display_data"
    }
   ],
   "source": [
    "plt.plot(range(len(history.history['accuracy'])), history.history['accuracy'], color='red')\n",
    "plt.plot(range(len(history.history['val_accuracy'])), history.history['val_accuracy'], color='blue')\n",
    "\n",
    "plt.show()"
   ]
  },
  {
   "cell_type": "markdown",
   "metadata": {},
   "source": [
    "Matriz de confusión"
   ]
  },
  {
   "cell_type": "code",
   "execution_count": 70,
   "metadata": {},
   "outputs": [
    {
     "name": "stdout",
     "output_type": "stream",
     "text": [
      "ERROR! Session/line number was not unique in database. History logging moved to new session 110\n",
      "Confusion Matrix\n",
      "[[10  0]\n",
      " [10  0]]\n",
      "Classification Report\n",
      "              precision    recall  f1-score   support\n",
      "\n",
      "        Cats       0.50      1.00      0.67        10\n",
      "        Dogs       0.00      0.00      0.00        10\n",
      "\n",
      "    accuracy                           0.50        20\n",
      "   macro avg       0.25      0.50      0.33        20\n",
      "weighted avg       0.25      0.50      0.33        20\n",
      "\n",
      "C:\\Users\\vicen\\anaconda3\\envs\\utnia\\lib\\site-packages\\sklearn\\metrics\\_classification.py:1248: UndefinedMetricWarning: Precision and F-score are ill-defined and being set to 0.0 in labels with no predicted samples. Use `zero_division` parameter to control this behavior.\n",
      "  _warn_prf(average, modifier, msg_start, len(result))\n",
      "C:\\Users\\vicen\\anaconda3\\envs\\utnia\\lib\\site-packages\\sklearn\\metrics\\_classification.py:1248: UndefinedMetricWarning: Precision and F-score are ill-defined and being set to 0.0 in labels with no predicted samples. Use `zero_division` parameter to control this behavior.\n",
      "  _warn_prf(average, modifier, msg_start, len(result))\n",
      "C:\\Users\\vicen\\anaconda3\\envs\\utnia\\lib\\site-packages\\sklearn\\metrics\\_classification.py:1248: UndefinedMetricWarning: Precision and F-score are ill-defined and being set to 0.0 in labels with no predicted samples. Use `zero_division` parameter to control this behavior.\n",
      "  _warn_prf(average, modifier, msg_start, len(result))\n"
     ]
    }
   ],
   "source": [
    "Y_pred = fullModel.predict_generator(validation_generator)\n",
    "y_pred = np.argmax(Y_pred, axis=1)\n",
    "\n",
    "print('Confusion Matrix')\n",
    "print(confusion_matrix(validation_generator.classes, y_pred))\n",
    "\n",
    "print('Classification Report')\n",
    "target_names = ['Cats', 'Dogs']\n",
    "print(classification_report(validation_generator.classes, y_pred, target_names=target_names))"
   ]
  }
 ],
 "metadata": {
  "interpreter": {
   "hash": "4b4807b60bda7231d5ec54d8119b2f2a568e48627af66bde43e1abe2d4225a0c"
  },
  "kernelspec": {
   "display_name": "Python 3.6.13 64-bit ('utnia': conda)",
   "name": "python3"
  },
  "language_info": {
   "codemirror_mode": {
    "name": "ipython",
    "version": 3
   },
   "file_extension": ".py",
   "mimetype": "text/x-python",
   "name": "python",
   "nbconvert_exporter": "python",
   "pygments_lexer": "ipython3",
   "version": "3.6.13"
  }
 },
 "nbformat": 4,
 "nbformat_minor": 5
}
