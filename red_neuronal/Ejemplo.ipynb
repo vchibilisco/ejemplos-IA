{
 "cells": [
  {
   "cell_type": "code",
   "execution_count": null,
   "id": "f91f230d",
   "metadata": {},
   "outputs": [],
   "source": [
    "import numpy\n",
    "import matplotlib.pyplot as plt"
   ]
  },
  {
   "cell_type": "code",
   "execution_count": 6,
   "id": "1faf9aa2",
   "metadata": {},
   "outputs": [
    {
     "name": "stdout",
     "output_type": "stream",
     "text": [
      "X\n",
      "[[100.]\n",
      " [150.]\n",
      " [200.]\n",
      " [230.]]\n",
      "X shape\n",
      "(4, 1)\n",
      "Y\n",
      "[10000 13000 15000 18000]\n",
      "Y shape\n",
      "(4,)\n"
     ]
    }
   ],
   "source": [
    "# Ejemplo precio de casas basado en m2\n",
    "#    X1       Y\n",
    "# 200m2 , $15000\n",
    "# 230m2 , $18000\n",
    "# 100m2 , $10000\n",
    "# 150m2 , $13000\n",
    "\n",
    "# Definir X\n",
    "X = numpy.array([\n",
    "     [100],\n",
    "     [150],\n",
    "     [200],\n",
    "     [230]\n",
    "    ], dtype=float)\n",
    "\n",
    "print(\"X\")\n",
    "print(X)\n",
    "print(\"X shape\")\n",
    "print(X.shape)\n",
    "\n",
    "# Definir Y\n",
    "Y = numpy.array([\n",
    "     10000,\n",
    "     13000,\n",
    "     15000,\n",
    "     18000\n",
    "])\n",
    "\n",
    "print(\"Y\")\n",
    "print(Y)\n",
    "print(\"Y shape\")\n",
    "print(Y.shape)"
   ]
  },
  {
   "cell_type": "code",
   "execution_count": 7,
   "id": "d85ff2db",
   "metadata": {},
   "outputs": [
    {
     "data": {
      "image/png": "[encoded data removed]",
      "text/plain": [
       "<Figure size 432x288 with 1 Axes>"
      ]
     },
     "metadata": {
      "needs_background": "light"
     },
     "output_type": "display_data"
    }
   ],
   "source": [
    "plt.plot(X[:,0], Y[:])\n",
    "plt.ylabel('Precio')\n",
    "plt.xlabel('Metros cuadrados')\n",
    "plt.show()"
   ]
  },
  {
   "cell_type": "code",
   "execution_count": 8,
   "id": "ee6a70d0",
   "metadata": {},
   "outputs": [
    {
     "name": "stdout",
     "output_type": "stream",
     "text": [
      "[[0.1795113  0.69745482]]\n",
      "W shape\n",
      "(1, 2)\n"
     ]
    }
   ],
   "source": [
    "# Definir W , cantidad de neurona + 1 (bias)\n",
    "W = numpy.array([numpy.random.rand(\n",
    "    numpy.size(X,1) + 1\n",
    ")])\n",
    "print(W)\n",
    "print(\"W shape\")\n",
    "print(W.shape)"
   ]
  },
  {
   "cell_type": "code",
   "execution_count": 23,
   "id": "1926bd24",
   "metadata": {},
   "outputs": [],
   "source": [
    "def neurona(X, W, act):\n",
    "  arregloDeUnos = numpy.array(\n",
    "      numpy.ones(\n",
    "        (numpy.size(X, 0), 1),\n",
    "        dtype=int\n",
    "      )\n",
    "  )\n",
    "\n",
    "  X_red = numpy.append(arregloDeUnos, X, axis=1)\n",
    "\n",
    "  X_transpuesta = X_red.transpose()\n",
    "  z = numpy.matmul(W, X_transpuesta)\n",
    "\n",
    "  print(\"z.transpose\")\n",
    "  print(z.transpose())\n",
    "  return act(z.transpose())\n",
    "\n",
    "def sigmoid(z):\n",
    "  return 1 / ( 1 + numpy.exp(-z) )\n",
    "\n",
    "def lineal(z):\n",
    "  return z\n",
    "\n",
    "def tangh(z):\n",
    "  return ((2 / (1 + numpy.exp(-2*z))) - 1)\n",
    "\n",
    "def relu(z):\n",
    "  return numpy.maximum(0, z)"
   ]
  },
  {
   "cell_type": "code",
   "execution_count": 28,
   "id": "9fe1acd3",
   "metadata": {},
   "outputs": [
    {
     "name": "stdout",
     "output_type": "stream",
     "text": [
      "z.transpose\n",
      "[[ 69.92499318]\n",
      " [104.79773412]\n",
      " [139.67047506]\n",
      " [160.59411962]]\n",
      "y_pred\n",
      "[[1.]\n",
      " [1.]\n",
      " [1.]\n",
      " [1.]]\n"
     ]
    }
   ],
   "source": [
    "y_pred = neurona(X, W, tangh)\n",
    "print(\"y_pred\")\n",
    "print(y_pred)"
   ]
  },
  {
   "cell_type": "code",
   "execution_count": 7,
   "id": "2efbbc0b",
   "metadata": {},
   "outputs": [
    {
     "data": {
      "image/png": "[encoded data removed]",
      "text/plain": [
       "<Figure size 432x288 with 1 Axes>"
      ]
     },
     "metadata": {
      "needs_background": "light"
     },
     "output_type": "display_data"
    }
   ],
   "source": [
    "plt.plot(X[:,0], Y[:], label = \"Data set\")\n",
    "plt.plot(X[:,0], y_pred[:], label = \"Datos prediccion\")\n",
    "plt.ylabel('Precio')\n",
    "plt.xlabel('Metros cuadrados')\n",
    "plt.legend()\n",
    "plt.show()"
   ]
  }
 ],
 "metadata": {
  "interpreter": {
   "hash": "bce1b430d5678ddc9895ea4da205025240c097c71b09821f93bd0c93971296b9"
  },
  "kernelspec": {
   "display_name": "Python 3.6.13 ('utnia')",
   "language": "python",
   "name": "python3"
  },
  "language_info": {
   "codemirror_mode": {
    "name": "ipython",
    "version": 3
   },
   "file_extension": ".py",
   "mimetype": "text/x-python",
   "name": "python",
   "nbconvert_exporter": "python",
   "pygments_lexer": "ipython3",
   "version": "3.6.13"
  }
 },
 "nbformat": 4,
 "nbformat_minor": 5
}
