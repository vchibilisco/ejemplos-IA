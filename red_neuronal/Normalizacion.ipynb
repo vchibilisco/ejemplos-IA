{
  "cells": [
    {
      "cell_type": "markdown",
      "metadata": {
        "colab_type": "text",
        "id": "view-in-github"
      },
      "source": [
        "<a href=\"https://colab.research.google.com/github/vchibilisco/ejemplos-IA/blob/master/red_neuronal/Normalizacion.ipynb\" target=\"_parent\"><img src=\"https://colab.research.google.com/assets/colab-badge.svg\" alt=\"Open In Colab\"/></a>"
      ]
    },
    {
      "cell_type": "code",
      "execution_count": 1,
      "metadata": {
        "id": "P5C-nBPxvQSF"
      },
      "outputs": [],
      "source": [
        "import numpy\n",
        "import matplotlib.pyplot as plt\n",
        "import copy"
      ]
    },
    {
      "cell_type": "code",
      "execution_count": 2,
      "metadata": {
        "colab": {
          "base_uri": "https://localhost:8080/",
          "height": 726
        },
        "id": "XHv9zYu48xX8",
        "outputId": "2d344096-db1e-4531-af6e-3228877c6c7b"
      },
      "outputs": [
        {
          "name": "stdout",
          "output_type": "stream",
          "text": [
            "[[100.   1.]\n",
            " [150.   1.]\n",
            " [200.   2.]\n",
            " [230.   3.]\n",
            " [235.   3.]\n",
            " [250.   2.]\n",
            " [330.   3.]]\n",
            "WIL.shape\n",
            "(3, 3)\n",
            "WOL.shape\n",
            "(1, 4)\n"
          ]
        },
        {
          "data": {
            "image/png": "[encoded data removed]",
            "text/plain": [
              "<Figure size 432x288 with 1 Axes>"
            ]
          },
          "metadata": {
            "needs_background": "light"
          },
          "output_type": "display_data"
        },
        {
          "data": {
            "image/png": "[encoded data removed]",
            "text/plain": [
              "<Figure size 432x288 with 1 Axes>"
            ]
          },
          "metadata": {
            "needs_background": "light"
          },
          "output_type": "display_data"
        }
      ],
      "source": [
        "input_layer = 3\n",
        "output_layer = 1\n",
        "#Ejemplo precio de casas basado en m2\n",
        "\n",
        "# 100m2 , 1c, $10000\n",
        "# 150m2 , 1c, $13000\n",
        "# 200m2 , 2c, $15000\n",
        "# 230m2 , 3c, $18000\n",
        "# 235m2 , 3c, $19000\n",
        "# 250m2 , 2c, $25000\n",
        "# 330m2 , 3c, $45000\n",
        "\n",
        "# Definir X\n",
        "X = numpy.array([\n",
        "     [100, 1],\n",
        "     [150, 1],\n",
        "     [200, 2],\n",
        "     [230, 3],\n",
        "     [235, 3],\n",
        "     [250, 2],\n",
        "     [330, 3],\n",
        "], dtype=float)\n",
        "print(X)\n",
        "# Definir Y\n",
        "Y = numpy.array([\n",
        "     10000,\n",
        "     13000,\n",
        "     15000,\n",
        "     18000,\n",
        "     19000,\n",
        "     25000,\n",
        "     45000\n",
        "])\n",
        "\n",
        "# Definir W: cantidad de caracteristicas + 1\n",
        "wn1 = numpy.array([numpy.random.rand(\n",
        "    numpy.size(X,1) + 1\n",
        ")])\n",
        "\n",
        "wn2 = numpy.array([numpy.random.rand(\n",
        "    numpy.size(X,1) + 1\n",
        ")])\n",
        "\n",
        "wn3 = numpy.array([numpy.random.rand(\n",
        "    numpy.size(X,1) + 1\n",
        ")])\n",
        "\n",
        "WIL = numpy.append(wn1, wn2, axis=0)\n",
        "WIL = numpy.append(WIL, wn3, axis=0)\n",
        "print('WIL.shape')\n",
        "print(WIL.shape)\n",
        "\n",
        "\n",
        "WOL = numpy.array([numpy.random.rand(\n",
        "    input_layer + 1\n",
        ")])\n",
        "print('WOL.shape')\n",
        "print(WOL.shape)\n",
        "\n",
        "plt.plot(X[:,0], Y[:])\n",
        "plt.ylabel('Precio')\n",
        "plt.xlabel('Metros cuadrados')\n",
        "plt.show()\n",
        "\n",
        "plt.plot(X[:,1], Y[:])\n",
        "plt.ylabel('Precio')\n",
        "plt.xlabel('Cantidad de Cuartos')\n",
        "plt.show()"
      ]
    },
    {
      "cell_type": "code",
      "execution_count": 3,
      "metadata": {
        "id": "EZfX_0SXvXFY"
      },
      "outputs": [],
      "source": [
        "def layer(X, W, f_act):\n",
        "  arregloDeUnos = numpy.array(\n",
        "    numpy.ones(\n",
        "        (numpy.size(X,0),1),\n",
        "        dtype=int\n",
        "        )\n",
        "  )\n",
        "  X_red = numpy.append(arregloDeUnos, X, axis=1)\n",
        "\n",
        "  X_transpuesta = X_red.transpose()\n",
        "\n",
        "  z = numpy.matmul(W, X_transpuesta)\n",
        "  \n",
        "  a = f_act(z)\n",
        "  return a"
      ]
    },
    {
      "cell_type": "code",
      "execution_count": 4,
      "metadata": {
        "id": "JVqxlvYx8pyg"
      },
      "outputs": [],
      "source": [
        "def neurona(X, W):\n",
        "  arregloDeUnos = numpy.array(\n",
        "    numpy.ones(\n",
        "        (numpy.size(X,0),1),\n",
        "        dtype=int\n",
        "        )\n",
        "  )\n",
        "  X_red = numpy.append(arregloDeUnos, X, axis=1)\n",
        "\n",
        "  X_transpuesta = X_red.transpose()\n",
        "\n",
        "  z = numpy.matmul(W, X_transpuesta)\n",
        "  return z"
      ]
    },
    {
      "cell_type": "code",
      "execution_count": 5,
      "metadata": {
        "id": "5PzCbp4lwqDl"
      },
      "outputs": [],
      "source": [
        "def sigmoid(x):\n",
        "  return 1/(1 + numpy.exp(-x))\n",
        "\n",
        "def lineal(x):\n",
        "  return x"
      ]
    },
    {
      "cell_type": "code",
      "execution_count": 6,
      "metadata": {
        "id": "NQJKe9AUvfdF"
      },
      "outputs": [],
      "source": [
        "def cost(pred, Y):\n",
        "  m = len(Y)\n",
        "\n",
        "  diff = (pred - Y) ** 2\n",
        "\n",
        "  J = (1/(2 * m)) * numpy.sum(diff)\n",
        "  return J"
      ]
    },
    {
      "cell_type": "code",
      "execution_count": 8,
      "metadata": {
        "colab": {
          "base_uri": "https://localhost:8080/"
        },
        "id": "vhybqUizwpWd",
        "outputId": "16c54a40-287a-46c4-e112-e0ff9768fd0f"
      },
      "outputs": [
        {
          "name": "stdout",
          "output_type": "stream",
          "text": [
            "[[100.   1.]\n",
            " [150.   1.]\n",
            " [200.   2.]\n",
            " [230.   3.]\n",
            " [235.   3.]\n",
            " [250.   2.]\n",
            " [330.   3.]]\n",
            "[[-1.66076123 -1.37198868]\n",
            " [-0.92960849 -1.37198868]\n",
            " [-0.19845574 -0.17149859]\n",
            " [ 0.2402359   1.02899151]\n",
            " [ 0.31335118  1.02899151]\n",
            " [ 0.532697   -0.17149859]\n",
            " [ 1.70254139  1.02899151]]\n",
            "[[0.         0.        ]\n",
            " [0.2173913  0.        ]\n",
            " [0.43478261 0.5       ]\n",
            " [0.56521739 1.        ]\n",
            " [0.58695652 1.        ]\n",
            " [0.65217391 0.5       ]\n",
            " [1.         1.        ]]\n"
          ]
        }
      ],
      "source": [
        "def estandarizar(X):\n",
        "  X_norm = copy.deepcopy(X)\n",
        "  sigma = numpy.std(X, axis=0)\n",
        "  mu = numpy.mean(X, axis=0)\n",
        "\n",
        "  max = numpy.size(X, axis=1)\n",
        "  i = 0\n",
        "\n",
        "  while i < max:\n",
        "    X_norm[:,i] = (X[:,i] - mu[i]) / sigma[i]\n",
        "    i = i + 1\n",
        "\n",
        "  return X_norm\n",
        "\n",
        "def normalizar(X):\n",
        "  X_norm = copy.deepcopy(X)\n",
        " \n",
        "  length = numpy.size(X, axis=1)\n",
        "  i = 0\n",
        "\n",
        "  # y = (x - min) / (max - min)\n",
        "  while i < length:\n",
        "    X_norm[:,i] = (X[:,i] - numpy.min(X[:,i])) / (numpy.max(X[:,i]) - numpy.min(X[:,i]) )\n",
        "    i = i + 1\n",
        "\n",
        "  return X_norm\n",
        "\n",
        "print(X)\n",
        "print(estandarizar(X))\n",
        "print(normalizar(X))"
      ]
    },
    {
      "cell_type": "code",
      "execution_count": 9,
      "metadata": {
        "colab": {
          "base_uri": "https://localhost:8080/"
        },
        "id": "up_SUOAYvy8e",
        "outputId": "aad29fcc-caa1-4049-a241-5755ede58042"
      },
      "outputs": [
        {
          "name": "stdout",
          "output_type": "stream",
          "text": [
            "[[0.         0.        ]\n",
            " [0.2173913  0.        ]\n",
            " [0.43478261 0.5       ]\n",
            " [0.56521739 1.        ]\n",
            " [0.58695652 1.        ]\n",
            " [0.65217391 0.5       ]\n",
            " [1.         1.        ]]\n",
            "salida_input_layer\n",
            "(3, 7)\n",
            "[[1.         1.         1.         1.         1.         1.\n",
            "  1.        ]\n",
            " [1.         1.         1.         1.         1.         1.\n",
            "  1.        ]\n",
            " [0.99972365 0.99999214 0.99999991 1.         1.         1.\n",
            "  1.        ]]\n",
            "salida_output_layer\n",
            "(1, 7)\n",
            "[[2.3285934  2.32865566 2.32865746 2.32865748 2.32865748 2.32865748\n",
            "  2.32865748]]\n"
          ]
        }
      ],
      "source": [
        "X_norm = normalizar(X)\n",
        "print(X_norm)\n",
        "salida_input_layer = layer(X, WIL, sigmoid)\n",
        "\n",
        "print(\"salida_input_layer\")\n",
        "print(salida_input_layer.shape)\n",
        "print(salida_input_layer)\n",
        "\n",
        "salida_output_layer = layer(salida_input_layer.transpose(), WOL, lineal)\n",
        "print(\"salida_output_layer\")\n",
        "print(salida_output_layer.shape)\n",
        "print(salida_output_layer)\n"
      ]
    },
    {
      "cell_type": "code",
      "execution_count": 10,
      "metadata": {
        "colab": {
          "base_uri": "https://localhost:8080/"
        },
        "id": "HUTy6KUqwPGG",
        "outputId": "c60dbcb4-a8e5-4bb0-b1af-924ee6a5909f"
      },
      "outputs": [
        {
          "data": {
            "text/plain": [
              "273451766.32983375"
            ]
          },
          "execution_count": 10,
          "metadata": {},
          "output_type": "execute_result"
        }
      ],
      "source": [
        "cost(salida_output_layer, Y)"
      ]
    }
  ],
  "metadata": {
    "colab": {
      "authorship_tag": "ABX9TyNMaIu6dhzOTSiuwGCFyL5b",
      "collapsed_sections": [],
      "include_colab_link": true,
      "mount_file_id": "1U9yhro_62LblkW4QbeA5rrug_oJZ0sy8",
      "name": "Normalizacion.ipynb",
      "provenance": []
    },
    "interpreter": {
      "hash": "bce1b430d5678ddc9895ea4da205025240c097c71b09821f93bd0c93971296b9"
    },
    "kernelspec": {
      "display_name": "Python 3.6.13 ('utnia')",
      "language": "python",
      "name": "python3"
    },
    "language_info": {
      "codemirror_mode": {
        "name": "ipython",
        "version": 3
      },
      "file_extension": ".py",
      "mimetype": "text/x-python",
      "name": "python",
      "nbconvert_exporter": "python",
      "pygments_lexer": "ipython3",
      "version": "3.6.13"
    }
  },
  "nbformat": 4,
  "nbformat_minor": 0
}
