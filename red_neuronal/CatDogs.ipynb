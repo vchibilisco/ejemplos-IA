{
 "cells": [
  {
   "cell_type": "code",
   "execution_count": 14,
   "metadata": {},
   "outputs": [],
   "source": [
    "import os\n",
    "from keras.preprocessing.image import ImageDataGenerator \n",
    "# https://keras.io/api/preprocessing/image/#image-data-preprocessing\n",
    "from keras.applications.imagenet_utils import preprocess_input\n",
    "\n",
    "from keras.models import Sequential\n",
    "from keras.layers import Dense, Conv2D, MaxPool2D, Flatten\n",
    "from keras.activations import relu, sigmoid\n",
    "from keras.callbacks import EarlyStopping\n",
    "\n",
    "from keras.optimizers import Adam\n",
    "from keras.losses import binary_crossentropy\n",
    "from keras.metrics import accuracy\n",
    "\n",
    "import matplotlib.pyplot as plt"
   ]
  },
  {
   "cell_type": "markdown",
   "id": "49e2ac93",
   "metadata": {},
   "source": [
    "Verificando si las carpetas necesarias estan disponibles"
   ]
  },
  {
   "cell_type": "code",
   "execution_count": 15,
   "id": "dc31cfbe",
   "metadata": {},
   "outputs": [
    {
     "name": "stdout",
     "output_type": "stream",
     "text": [
      "OK\n"
     ]
    }
   ],
   "source": [
    "pathTrain = './dataset/catdog/train'\n",
    "pathTest = './dataset/catdog/test'\n",
    "\n",
    "if (os.path.exists(pathTrain) and os.path.exists(pathTest)):\n",
    "    print('OK')\n",
    "else:\n",
    "    print('No existen carpetas')\n",
    "    print('Descomprima el archivo catdog.zip o puede descargar otro dataset: https://www.kaggle.com/arpitjain007/dog-vs-cat-fastai')\n"
   ]
  },
  {
   "cell_type": "markdown",
   "metadata": {},
   "source": [
    "Crear un generador de nuevas imagenes"
   ]
  },
  {
   "cell_type": "code",
   "execution_count": 16,
   "metadata": {},
   "outputs": [
    {
     "name": "stdout",
     "output_type": "stream",
     "text": [
      "Found 400 images belonging to 2 classes.\n",
      "Found 20 images belonging to 2 classes.\n"
     ]
    }
   ],
   "source": [
    "images_increased = 5\n",
    "width_shape = 224\n",
    "height_shape = 224\n",
    "batch_size = 32\n",
    "\n",
    "train_datagen = ImageDataGenerator(\n",
    "    rotation_range=20, # rota 20 grados\n",
    "    zoom_range=0.2, # zoom\n",
    "    width_shift_range=0.1, # desplazar 10%\n",
    "    height_shift_range=0.1,  # desplazar 10%\n",
    "    horizontal_flip=True, # invertir horizontalmente\n",
    "    vertical_flip=False,\n",
    "    preprocessing_function=preprocess_input\n",
    ")\n",
    "\n",
    "valid_datagen = ImageDataGenerator(    \n",
    "    rotation_range=20,\n",
    "    zoom_range=0.2,\n",
    "    width_shift_range=0.1,\n",
    "    height_shift_range=0.1,\n",
    "    horizontal_flip=True,\n",
    "    vertical_flip=False,\n",
    "    preprocessing_function=preprocess_input)\n",
    "\n",
    "train_generator = train_datagen.flow_from_directory(  \n",
    "    pathTrain,\n",
    "    target_size=(width_shape, height_shape),\n",
    "    batch_size=batch_size,\n",
    "    class_mode='binary')\n",
    "\n",
    "validation_generator = valid_datagen.flow_from_directory(  \n",
    "    pathTest,\n",
    "    target_size=(width_shape, height_shape),\n",
    "    batch_size=batch_size,\n",
    "    class_mode='binary')"
   ]
  },
  {
   "cell_type": "markdown",
   "metadata": {},
   "source": [
    "Crear modelo"
   ]
  },
  {
   "cell_type": "code",
   "execution_count": 17,
   "metadata": {},
   "outputs": [
    {
     "name": "stdout",
     "output_type": "stream",
     "text": [
      "Model: \"sequential_3\"\n",
      "_________________________________________________________________\n",
      "Layer (type)                 Output Shape              Param #   \n",
      "=================================================================\n",
      "conv2d_9 (Conv2D)            (None, 222, 222, 33)      924       \n",
      "_________________________________________________________________\n",
      "conv2d_10 (Conv2D)           (None, 220, 220, 32)      9536      \n",
      "_________________________________________________________________\n",
      "max_pooling2d_5 (MaxPooling2 (None, 110, 110, 32)      0         \n",
      "_________________________________________________________________\n",
      "conv2d_11 (Conv2D)           (None, 108, 108, 64)      18496     \n",
      "_________________________________________________________________\n",
      "conv2d_12 (Conv2D)           (None, 106, 106, 64)      36928     \n",
      "_________________________________________________________________\n",
      "max_pooling2d_6 (MaxPooling2 (None, 53, 53, 64)        0         \n",
      "_________________________________________________________________\n",
      "flatten_3 (Flatten)          (None, 179776)            0         \n",
      "_________________________________________________________________\n",
      "dense_7 (Dense)              (None, 64)                11505728  \n",
      "_________________________________________________________________\n",
      "dense_8 (Dense)              (None, 23)                1495      \n",
      "_________________________________________________________________\n",
      "dense_9 (Dense)              (None, 1)                 24        \n",
      "=================================================================\n",
      "Total params: 11,573,131\n",
      "Trainable params: 11,573,131\n",
      "Non-trainable params: 0\n",
      "_________________________________________________________________\n"
     ]
    }
   ],
   "source": [
    "model = Sequential()\n",
    "\n",
    "inputShape = (height_shape, width_shape, 3)\n",
    "\n",
    "model.add(Conv2D(filters=33, kernel_size=(3,3), input_shape=inputShape))\n",
    "model.add(Conv2D(filters=32, kernel_size=(3,3)))\n",
    "model.add(MaxPool2D())\n",
    "\n",
    "model.add(Conv2D(filters=64, kernel_size=(3,3)))\n",
    "model.add(Conv2D(filters=64, kernel_size=(3,3)))\n",
    "model.add(MaxPool2D())\n",
    "\n",
    "model.add(Flatten())\n",
    "\n",
    "model.add(Dense(64, activation=relu))\n",
    "model.add(Dense(23, activation=relu))\n",
    "model.add(Dense(1, activation=sigmoid))\n",
    "\n",
    "model.summary()"
   ]
  },
  {
   "cell_type": "markdown",
   "metadata": {},
   "source": [
    "Compilar"
   ]
  },
  {
   "cell_type": "code",
   "execution_count": 18,
   "metadata": {},
   "outputs": [],
   "source": [
    "adam = Adam(learning_rate=0.001)\n",
    "\n",
    "model.compile(\n",
    "    optimizer=adam,\n",
    "    loss=binary_crossentropy,\n",
    "    metrics=[accuracy]\n",
    ")"
   ]
  },
  {
   "cell_type": "code",
   "execution_count": 19,
   "id": "94891f0c",
   "metadata": {},
   "outputs": [],
   "source": [
    "# Configuración del callback de EarlyStopping\n",
    "early_stopping = EarlyStopping(\n",
    "    monitor='val_loss',\n",
    "    patience=5,\n",
    "    restore_best_weights=True\n",
    ")"
   ]
  },
  {
   "cell_type": "markdown",
   "metadata": {},
   "source": [
    "Entrenar"
   ]
  },
  {
   "cell_type": "code",
   "execution_count": 20,
   "metadata": {},
   "outputs": [
    {
     "name": "stdout",
     "output_type": "stream",
     "text": [
      "Epoch 1/10\n",
      "20/20 [==============================] - 121s 6s/step - loss: 61.7003 - accuracy: 0.3702 - val_loss: 61.6264 - val_accuracy: 0.2140\n",
      "Epoch 2/10\n",
      "20/20 [==============================] - 115s 6s/step - loss: 31.2706 - accuracy: 0.2796 - val_loss: 17.2772 - val_accuracy: 0.2320\n",
      "Epoch 3/10\n",
      "20/20 [==============================] - 134s 7s/step - loss: 14.1933 - accuracy: 0.1859 - val_loss: 8.0200 - val_accuracy: 0.2350\n",
      "Epoch 4/10\n",
      "20/20 [==============================] - 171s 9s/step - loss: 5.6640 - accuracy: 0.1447 - val_loss: 12.7601 - val_accuracy: 0.3180\n",
      "Epoch 5/10\n",
      "20/20 [==============================] - 191s 10s/step - loss: 5.3463 - accuracy: 0.1554 - val_loss: 4.3583 - val_accuracy: 0.2050\n",
      "Epoch 6/10\n",
      "20/20 [==============================] - 173s 9s/step - loss: 4.6188 - accuracy: 0.1365 - val_loss: 7.4470 - val_accuracy: 0.1630\n",
      "Epoch 7/10\n",
      "20/20 [==============================] - 161s 8s/step - loss: 3.7907 - accuracy: 0.0724 - val_loss: 1.3835 - val_accuracy: 0.0160\n",
      "Epoch 8/10\n",
      "20/20 [==============================] - 167s 8s/step - loss: 2.6777 - accuracy: 0.0288 - val_loss: 4.3800 - val_accuracy: 0.0180\n",
      "Epoch 9/10\n",
      "20/20 [==============================] - 196s 10s/step - loss: 2.9474 - accuracy: 0.0510 - val_loss: 3.0608 - val_accuracy: 0.0140\n",
      "Epoch 10/10\n",
      "20/20 [==============================] - 186s 9s/step - loss: 2.4719 - accuracy: 0.0176 - val_loss: 3.3844 - val_accuracy: 0.0050\n"
     ]
    }
   ],
   "source": [
    "epoch = 10\n",
    "\n",
    "history = model.fit(\n",
    "    train_generator,\n",
    "    steps_per_epoch=20,\n",
    "    validation_data=validation_generator,\n",
    "    validation_steps=50,\n",
    "    epochs=epoch,\n",
    "    callbacks=[early_stopping]\n",
    ")"
   ]
  },
  {
   "cell_type": "code",
   "execution_count": 21,
   "metadata": {},
   "outputs": [
    {
     "data": {
      "image/png": "[encoded data removed]",
      "text/plain": [
       "<Figure size 432x288 with 1 Axes>"
      ]
     },
     "metadata": {
      "needs_background": "light"
     },
     "output_type": "display_data"
    }
   ],
   "source": [
    "history.history\n",
    "plt.plot(range(len(history.history['loss'])), history.history['loss'], color='red')\n",
    "plt.plot(range(len(history.history['val_loss'])), history.history['val_loss'], color='blue')\n",
    "\n",
    "plt.show()"
   ]
  }
 ],
 "metadata": {
  "interpreter": {
   "hash": "4b4807b60bda7231d5ec54d8119b2f2a568e48627af66bde43e1abe2d4225a0c"
  },
  "kernelspec": {
   "display_name": "Python 3.6.13 64-bit ('utnia': conda)",
   "name": "python3"
  },
  "language_info": {
   "codemirror_mode": {
    "name": "ipython",
    "version": 3
   },
   "file_extension": ".py",
   "mimetype": "text/x-python",
   "name": "python",
   "nbconvert_exporter": "python",
   "pygments_lexer": "ipython3",
   "version": "3.6.13"
  }
 },
 "nbformat": 4,
 "nbformat_minor": 5
}
