{
  "cells": [
    {
      "cell_type": "code",
      "execution_count": 1,
      "metadata": {
        "id": "sjd_dR_Lh3s_"
      },
      "outputs": [],
      "source": [
        "import numpy as np\n",
        "np.random.seed(2)\n",
        "\n",
        "import matplotlib.pyplot as plt"
      ]
    },
    {
      "cell_type": "code",
      "execution_count": 2,
      "metadata": {
        "id": "D2OHbw4DjFkN"
      },
      "outputs": [
        {
          "name": "stderr",
          "output_type": "stream",
          "text": [
            "Using TensorFlow backend.\n"
          ]
        }
      ],
      "source": [
        "# from keras.datasets import mnist as datasets\n",
        "from keras.datasets import fashion_mnist as datasets\n",
        "from keras.utils import np_utils\n",
        "# Ejemplo one hot https://www.google.com/url?sa=i&url=https%3A%2F%2Fwww.kaggle.com%2Fdansbecker%2Fusing-categorical-data-with-one-hot-encoding&psig=AOvVaw3tlGeUdaNDigWpksOj4Arp&ust=1591750167942000&source=images&cd=vfe&ved=0CAIQjRxqFwoTCJiw8szB8-kCFQAAAAAdAAAAABAO"
      ]
    },
    {
      "cell_type": "code",
      "execution_count": 3,
      "metadata": {
        "id": "KUm6hyrzjmQc"
      },
      "outputs": [],
      "source": [
        "from keras.models import Sequential\n",
        "from keras.layers.convolutional import Conv2D, MaxPooling2D\n",
        "from keras.layers.core import Flatten, Dense\n",
        "from keras.optimizers import SGD"
      ]
    },
    {
      "cell_type": "code",
      "execution_count": 4,
      "metadata": {
        "colab": {
          "base_uri": "https://localhost:8080/"
        },
        "id": "7CZEkLFBj3vD",
        "outputId": "8f604b9d-77f3-4d95-840d-27353c1eb575"
      },
      "outputs": [
        {
          "name": "stdout",
          "output_type": "stream",
          "text": [
            "(60000, 28, 28)\n",
            "(60000,)\n",
            "(10000, 28, 28)\n",
            "(10000,)\n"
          ]
        }
      ],
      "source": [
        "(x_train, y_train), (x_test, y_test) = datasets.load_data()\n",
        "print(x_train.shape)\n",
        "print(y_train.shape)\n",
        "print(x_test.shape)\n",
        "print(y_test.shape)"
      ]
    },
    {
      "cell_type": "code",
      "execution_count": 5,
      "metadata": {
        "id": "jWw9OO0fkWA8"
      },
      "outputs": [],
      "source": [
        "# Normalizar los datos de entradas entre 0 - 1\n",
        "x_train = x_train/225.0\n",
        "x_test = x_test/225.0"
      ]
    },
    {
      "cell_type": "code",
      "execution_count": 6,
      "metadata": {
        "id": "fJ-uqOOkkeSe"
      },
      "outputs": [],
      "source": [
        "# Dar formato one-hot\n",
        "nclases = 10\n",
        "y_train = np_utils.to_categorical(y_train, nclases)\n",
        "y_test = np_utils.to_categorical(y_test, nclases)"
      ]
    },
    {
      "cell_type": "code",
      "execution_count": 7,
      "metadata": {
        "colab": {
          "base_uri": "https://localhost:8080/",
          "height": 281
        },
        "id": "0XABKLEEk8QK",
        "outputId": "2bc99630-f7dc-423c-f6ec-52afa6851f8a"
      },
      "outputs": [
        {
          "data": {
            "text/plain": [
              "(-0.5, 27.5, 27.5, -0.5)"
            ]
          },
          "execution_count": 7,
          "metadata": {},
          "output_type": "execute_result"
        },
        {
          "data": {
            "image/png": "[encoded data removed]",
            "text/plain": [
              "<Figure size 432x288 with 1 Axes>"
            ]
          },
          "metadata": {
            "needs_background": "light"
          },
          "output_type": "display_data"
        }
      ],
      "source": [
        "nimagen = 100\n",
        "plt.imshow(x_train[nimagen,:].reshape(28,28), cmap='gray_r')\n",
        "plt.title('Imagen ejemplo - Categoría: ' + str(np.argmax(y_train[nimagen])))\n",
        "plt.axis('off')"
      ]
    },
    {
      "cell_type": "code",
      "execution_count": 8,
      "metadata": {
        "colab": {
          "base_uri": "https://localhost:8080/"
        },
        "id": "BzbL5Gq8lEAQ",
        "outputId": "a96366f6-87c1-430c-b078-c411240055e7"
      },
      "outputs": [
        {
          "name": "stdout",
          "output_type": "stream",
          "text": [
            "(60000, 28, 28, 1)\n",
            "(10000, 28, 28, 1)\n"
          ]
        }
      ],
      "source": [
        "# Por defecto, Keras requiere cada dato de entrada en el formato\n",
        "# nimagenes x nfilas x ncolumnas x ncanales,\n",
        "# donde ncanales = 1 por ser imágenes en escala de gris.\n",
        "# Se debe modificar el tamaño de x_train y x_test para cumplir\n",
        "# con este requerimiento:\n",
        "\n",
        "x_train = x_train.reshape(60000,28,28,1)\n",
        "x_test = x_test.reshape(10000,28,28,1)\n",
        "\n",
        "print(x_train.shape)\n",
        "print(x_test.shape)"
      ]
    },
    {
      "cell_type": "code",
      "execution_count": 9,
      "metadata": {
        "colab": {
          "base_uri": "https://localhost:8080/"
        },
        "id": "14X6AWYmmHEt",
        "outputId": "9ac5613c-5d5a-4f54-b372-8621f36369fd"
      },
      "outputs": [
        {
          "name": "stdout",
          "output_type": "stream",
          "text": [
            "Model: \"sequential_1\"\n",
            "_________________________________________________________________\n",
            "Layer (type)                 Output Shape              Param #   \n",
            "=================================================================\n",
            "conv2d_1 (Conv2D)            (None, 24, 24, 6)         156       \n",
            "_________________________________________________________________\n",
            "max_pooling2d_1 (MaxPooling2 (None, 12, 12, 6)         0         \n",
            "_________________________________________________________________\n",
            "conv2d_2 (Conv2D)            (None, 8, 8, 16)          2416      \n",
            "_________________________________________________________________\n",
            "max_pooling2d_2 (MaxPooling2 (None, 4, 4, 16)          0         \n",
            "_________________________________________________________________\n",
            "flatten_1 (Flatten)          (None, 256)               0         \n",
            "_________________________________________________________________\n",
            "dense_1 (Dense)              (None, 120)               30840     \n",
            "_________________________________________________________________\n",
            "dense_2 (Dense)              (None, 84)                10164     \n",
            "_________________________________________________________________\n",
            "dense_3 (Dense)              (None, 10)                850       \n",
            "=================================================================\n",
            "Total params: 44,426\n",
            "Trainable params: 44,426\n",
            "Non-trainable params: 0\n",
            "_________________________________________________________________\n"
          ]
        }
      ],
      "source": [
        "# Modelo basado en Lenet\n",
        "modelo = Sequential()\n",
        "\n",
        "# Conv y Max-pooling 1\n",
        "modelo.add(Conv2D(filters=6, kernel_size=(5, 5), activation='relu', input_shape=(28, 28, 1)))\n",
        "modelo.add(MaxPooling2D(pool_size=(2, 2)))\n",
        "\n",
        "# Conv y Max-pooling 2\n",
        "modelo.add(Conv2D(filters=16, kernel_size=(5, 5), activation='relu'))\n",
        "modelo.add(MaxPooling2D(pool_size=(2, 2)))\n",
        "\n",
        "# Aplanar volumen\n",
        "modelo.add(Flatten())\n",
        "\n",
        "# Fully Connected y salida\n",
        "modelo.add(Dense(120, activation='relu'))\n",
        "modelo.add(Dense(84, activation='relu'))\n",
        "modelo.add(Dense(nclases, activation='softmax'))\n",
        "\n",
        "modelo.summary()"
      ]
    },
    {
      "cell_type": "code",
      "execution_count": 10,
      "metadata": {
        "id": "YVTXr0GfncDE"
      },
      "outputs": [],
      "source": [
        "# Optimizador\n",
        "sgd = SGD(learning_rate=0.1)\n",
        "\n",
        "modelo.compile(loss='categorical_crossentropy', optimizer=sgd, metrics=['accuracy'])"
      ]
    },
    {
      "cell_type": "code",
      "execution_count": 11,
      "metadata": {
        "colab": {
          "base_uri": "https://localhost:8080/",
          "height": 426
        },
        "id": "SDTVH0G8ntMQ",
        "outputId": "59e71139-bbbb-4c6d-d4c3-32d981217586"
      },
      "outputs": [
        {
          "name": "stdout",
          "output_type": "stream",
          "text": [
            "Train on 60000 samples, validate on 10000 samples\n",
            "Epoch 1/10\n",
            "60000/60000 [==============================] - 33s 555us/step - loss: 0.7982 - accuracy: 0.6967 - val_loss: 0.5155 - val_accuracy: 0.8111\n",
            "Epoch 2/10\n",
            "60000/60000 [==============================] - 32s 532us/step - loss: 0.4568 - accuracy: 0.8321 - val_loss: 0.4740 - val_accuracy: 0.8250\n",
            "Epoch 3/10\n",
            "60000/60000 [==============================] - 32s 525us/step - loss: 0.3865 - accuracy: 0.8585 - val_loss: 0.4045 - val_accuracy: 0.8534\n",
            "Epoch 4/10\n",
            "60000/60000 [==============================] - 32s 533us/step - loss: 0.3548 - accuracy: 0.8694 - val_loss: 0.3689 - val_accuracy: 0.8659\n",
            "Epoch 5/10\n",
            "60000/60000 [==============================] - 32s 534us/step - loss: 0.3305 - accuracy: 0.8784 - val_loss: 0.3480 - val_accuracy: 0.8741\n",
            "Epoch 6/10\n",
            "60000/60000 [==============================] - 32s 532us/step - loss: 0.3105 - accuracy: 0.8859 - val_loss: 0.3529 - val_accuracy: 0.8718\n",
            "Epoch 7/10\n",
            "60000/60000 [==============================] - 32s 533us/step - loss: 0.2972 - accuracy: 0.8906 - val_loss: 0.3292 - val_accuracy: 0.8793\n",
            "Epoch 8/10\n",
            "60000/60000 [==============================] - 32s 533us/step - loss: 0.2872 - accuracy: 0.8944 - val_loss: 0.3346 - val_accuracy: 0.8793\n",
            "Epoch 9/10\n",
            "60000/60000 [==============================] - 32s 534us/step - loss: 0.2758 - accuracy: 0.8984 - val_loss: 0.3189 - val_accuracy: 0.8855\n",
            "Epoch 10/10\n",
            "60000/60000 [==============================] - 32s 537us/step - loss: 0.2683 - accuracy: 0.9006 - val_loss: 0.3311 - val_accuracy: 0.8765\n"
          ]
        }
      ],
      "source": [
        "# Entrenamiento\n",
        "nepoch = 10\n",
        "tam_lote = 128\n",
        "\n",
        "history = modelo.fit(\n",
        "    x_train,\n",
        "    y_train,\n",
        "    epochs=nepoch,\n",
        "    batch_size=tam_lote,\n",
        "    validation_data=(x_test, y_test),\n",
        "    verbose=1\n",
        ")"
      ]
    },
    {
      "cell_type": "code",
      "execution_count": 12,
      "metadata": {
        "colab": {
          "base_uri": "https://localhost:8080/",
          "height": 591
        },
        "id": "_cXwN9tdBh8T",
        "outputId": "17addaf2-4846-497d-9f8d-23ecc88420f0"
      },
      "outputs": [
        {
          "name": "stdout",
          "output_type": "stream",
          "text": [
            "dict_keys(['val_loss', 'val_accuracy', 'loss', 'accuracy'])\n"
          ]
        },
        {
          "data": {
            "image/png": "[encoded data removed]",
            "text/plain": [
              "<Figure size 432x288 with 1 Axes>"
            ]
          },
          "metadata": {
            "needs_background": "light"
          },
          "output_type": "display_data"
        },
        {
          "data": {
            "image/png": "[encoded data removed]",
            "text/plain": [
              "<Figure size 432x288 with 1 Axes>"
            ]
          },
          "metadata": {
            "needs_background": "light"
          },
          "output_type": "display_data"
        }
      ],
      "source": [
        "print(history.history.keys())\n",
        "\n",
        "# summarize history for accuracy\n",
        "plt.plot(history.history['accuracy'])\n",
        "plt.plot(history.history['val_accuracy'])\n",
        "plt.title('model accuracy')\n",
        "plt.ylabel('accuracy')\n",
        "plt.xlabel('epoch')\n",
        "plt.legend(['train', 'test'], loc='upper left')\n",
        "plt.show()\n",
        "# summarize history for loss\n",
        "plt.plot(history.history['loss'])\n",
        "plt.plot(history.history['val_loss'])\n",
        "plt.title('model loss')\n",
        "plt.ylabel('loss')\n",
        "plt.xlabel('epoch')\n",
        "plt.legend(['train', 'test'], loc='upper left')\n",
        "plt.show()"
      ]
    },
    {
      "cell_type": "code",
      "execution_count": 13,
      "metadata": {
        "colab": {
          "background_save": true
        },
        "id": "ui1AivE_pX9x"
      },
      "outputs": [],
      "source": [
        "# Desempeño\n",
        "\n",
        "from sklearn.metrics import confusion_matrix\n",
        "\n",
        "def graficar_matriz_de_confusion(y_ref, y_pred, clases, cmap=plt.cm.Blues):\n",
        "\n",
        "    titulo = 'Matriz de confusión'\n",
        "\n",
        "    cm = confusion_matrix(y_ref, y_pred)\n",
        "\n",
        "    # Generar figura\n",
        "    fig, ax = plt.subplots()\n",
        "    im = ax.imshow(cm, interpolation='nearest', cmap=cmap)\n",
        "    ax.set(xticks=np.arange(cm.shape[1]),\n",
        "           yticks=np.arange(cm.shape[0]),\n",
        "           xticklabels=clases, yticklabels=clases,\n",
        "           title=titulo,\n",
        "           ylabel='Categoría real',\n",
        "           xlabel='Predicción')\n",
        "\n",
        "    # Rotar y alinear ticks\n",
        "    plt.setp(ax.get_xticklabels(), rotation=45, ha=\"right\",\n",
        "             rotation_mode=\"anchor\")\n",
        "\n",
        "    # Rellenar gráfica con los valores de la matriz de confusión\n",
        "    fmt = 'd'\n",
        "    thresh = cm.max() / 2.\n",
        "    for i in range(cm.shape[0]):\n",
        "        for j in range(cm.shape[1]):\n",
        "            ax.text(j, i, format(cm[i, j], fmt),\n",
        "                    ha=\"center\", va=\"center\",\n",
        "                    color=\"white\" if cm[i, j] > thresh else \"black\")\n",
        "    fig.tight_layout()\n",
        "    plt.show()"
      ]
    },
    {
      "cell_type": "code",
      "execution_count": 14,
      "metadata": {
        "colab": {
          "background_save": true,
          "base_uri": "https://localhost:8080/",
          "height": 297
        },
        "id": "zMs6j6g4p1PP",
        "outputId": "02ebeee5-239f-47dc-9d02-72956453f8f0"
      },
      "outputs": [
        {
          "data": {
            "image/png": "[encoded data removed]",
            "text/plain": [
              "<Figure size 432x288 with 1 Axes>"
            ]
          },
          "metadata": {
            "needs_background": "light"
          },
          "output_type": "display_data"
        }
      ],
      "source": [
        "y_pred = modelo.predict_classes(x_test)\n",
        "y_ref = np.argmax(y_test,axis=1)\n",
        "etiquetas = ['0','1','2','3','4','5','6','7','8','9']\n",
        "graficar_matriz_de_confusion(y_ref, y_pred, etiquetas)"
      ]
    }
  ],
  "metadata": {
    "colab": {
      "collapsed_sections": [],
      "name": "Ejemplo CNN.ipynb",
      "provenance": []
    },
    "interpreter": {
      "hash": "4b4807b60bda7231d5ec54d8119b2f2a568e48627af66bde43e1abe2d4225a0c"
    },
    "kernelspec": {
      "display_name": "Python 3.6.13 64-bit ('utnia': conda)",
      "name": "python3"
    },
    "language_info": {
      "codemirror_mode": {
        "name": "ipython",
        "version": 3
      },
      "file_extension": ".py",
      "mimetype": "text/x-python",
      "name": "python",
      "nbconvert_exporter": "python",
      "pygments_lexer": "ipython3",
      "version": "3.6.13"
    }
  },
  "nbformat": 4,
  "nbformat_minor": 0
}
