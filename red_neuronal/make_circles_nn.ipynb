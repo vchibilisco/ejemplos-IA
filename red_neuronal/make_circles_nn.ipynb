{
 "cells": [
  {
   "cell_type": "code",
   "execution_count": 1,
   "id": "6a93310b",
   "metadata": {},
   "outputs": [],
   "source": [
    "import numpy as np\n",
    "import scipy as sc\n",
    "import matplotlib.pyplot as plt\n",
    "\n",
    "from sklearn.datasets import make_circles"
   ]
  },
  {
   "cell_type": "code",
   "execution_count": 2,
   "id": "d8fc9164",
   "metadata": {
    "scrolled": true
   },
   "outputs": [
    {
     "data": {
      "image/png": "[encoded data removed]",
      "text/plain": [
       "<Figure size 432x288 with 1 Axes>"
      ]
     },
     "metadata": {
      "needs_background": "light"
     },
     "output_type": "display_data"
    }
   ],
   "source": [
    "# crear el dataset\n",
    "n = 1000 # numero de registros en nuestros datos\n",
    "\n",
    "X, Y = make_circles(n_samples=n, factor=0.3, noise=0.15)\n",
    "\n",
    "Y = Y[:, np.newaxis]\n",
    "\n",
    "plt.scatter(X[Y[:, 0] == 0, 0], X[Y[:, 0] == 0, 1], c=\"skyblue\")\n",
    "plt.scatter(X[Y[:, 0] == 1, 0], X[Y[:, 0] == 1, 1], c=\"salmon\")\n",
    "plt.axis(\"equal\")\n",
    "plt.show()\n"
   ]
  },
  {
   "cell_type": "code",
   "execution_count": 3,
   "id": "f30035fe",
   "metadata": {},
   "outputs": [],
   "source": [
    "# clase de la capa de la red\n",
    "\n",
    "class neural_layer():\n",
    "    \n",
    "    def __init__(self, n_conn, n_neur, act_f):\n",
    "        self.act_f = act_f # función de activación\n",
    "        \n",
    "        self.b = np.random.rand(1, n_neur)      * 2 - 1 # parametro de bias -1 a 1\n",
    "        self.W = np.random.rand(n_conn, n_neur) * 2 - 1 # pesos W -1 a 1\n",
    "        "
   ]
  },
  {
   "cell_type": "code",
   "execution_count": 4,
   "id": "be706f28",
   "metadata": {
    "scrolled": true
   },
   "outputs": [
    {
     "data": {
      "text/plain": [
       "[<matplotlib.lines.Line2D at 0x19b06d5ecc0>]"
      ]
     },
     "execution_count": 4,
     "metadata": {},
     "output_type": "execute_result"
    },
    {
     "data": {
      "image/png": "[encoded data removed]",
      "text/plain": [
       "<Figure size 432x288 with 1 Axes>"
      ]
     },
     "metadata": {
      "needs_background": "light"
     },
     "output_type": "display_data"
    }
   ],
   "source": [
    "# funciones de activación\n",
    "\n",
    "sigm = (lambda x: 1 / (1 + np.e ** (-x)),\n",
    "        lambda x: x * (1 - x))# sigmoide / derivada de sigm\n",
    "\n",
    "relu = lambda x: np.maximum(0, x)\n",
    "\n",
    "_x = np.linspace(-5, 5, 1000)\n",
    "#plt.plot(_x, sigm[0](_x)) # sigmoide\n",
    "#plt.plot(_x, sigm[1](_x)) # derivada de sigmoide\n",
    "\n",
    "plt.plot(_x, relu(_x)) # relu"
   ]
  },
  {
   "cell_type": "code",
   "execution_count": 5,
   "id": "03d589ad",
   "metadata": {},
   "outputs": [],
   "source": [
    "# l0 = neural_layer(p, 4, sigm)\n",
    "# l1 = neural_layer(4, 8, sigm)\n",
    "# ...\n",
    "\n",
    "\n",
    "\n",
    "\n",
    "# generalizando....\n",
    "def create_nn(topology, act_f):\n",
    "    \n",
    "    nn = []\n",
    "    \n",
    "    for l, layer in enumerate(topology[:-1]):\n",
    "        \n",
    "        nn.append(neural_layer(topology[l], topology[l+1], act_f))\n",
    "        \n",
    "    return nn"
   ]
  },
  {
   "cell_type": "code",
   "execution_count": 6,
   "id": "0b19c85f",
   "metadata": {},
   "outputs": [],
   "source": [
    "# función de coste\n",
    "l2_cost = (lambda Yp, Yr: np.mean((Yp - Yr) ** 2),\n",
    "          lambda Yp, Yr: (Yp - Yr)) # error cuadratico medio / derivada\n",
    "\n",
    "# codigo para entrenar\n",
    "\n",
    "def train(neural_net, X, Y, l2_cost, lr = 0.5, train = True):\n",
    "    \n",
    "    out = [(None, X)] # vector resultado de cada capa [(z0, a0), (z1, a1), ...]\n",
    "    \n",
    "    # foward pass\n",
    "    \n",
    "    # z = X @ neural_net[0].W + neural_net[0].b # suma ponderada - detalles: @ multiplicado matricialmente\n",
    "    # a = neural_net[0].act_f(z) # función de activación\n",
    "    \n",
    "    for l, layer in enumerate(neural_net):\n",
    "        z = out[-1][1] @ neural_net[l].W + neural_net[l].b # out[-1][1] output de la capa anterior\n",
    "        a = neural_net[l].act_f[0](z)\n",
    "        \n",
    "        out.append((z, a))\n",
    "    \n",
    "    \n",
    "    if train:\n",
    "        # entrenamiento\n",
    "        # backward pass\n",
    "        \n",
    "        deltas = [] # dalta de cada capa\n",
    "        \n",
    "        for l in reversed(range(0, len(neural_net))):\n",
    "            \n",
    "            z = out[l + 1][0]\n",
    "            a = out[l + 1][1]\n",
    "\n",
    "            if l == len(neural_net) - 1:\n",
    "                \n",
    "                # calcular delta última capa\n",
    "                deltas.insert(0, l2_cost[1](a, Y) * neural_net[l].act_f[1](a))\n",
    "            else:\n",
    "                # calcular delta respecto a capa previa\n",
    "                deltas.insert(0, deltas[0] @ _W.T * neural_net[l].act_f[1](a))\n",
    "                \n",
    "            _W = neural_net[l].W\n",
    "            # gradient descent\n",
    "            neural_net[l].b = neural_net[l].b - np.mean(deltas[0], axis=0, keepdims=True) * lr\n",
    "\n",
    "            neural_net[l].W = neural_net[l].W - out[l][1].T @ deltas[0] * lr\n",
    "            \n",
    "        \n",
    "    return out[-1][1]"
   ]
  },
  {
   "cell_type": "code",
   "execution_count": 7,
   "id": "64f524ef",
   "metadata": {},
   "outputs": [],
   "source": [
    "\n",
    "#train(neural_net, X, Y, l2_cost, 0.5)\n",
    "#print(\"\")"
   ]
  },
  {
   "cell_type": "code",
   "execution_count": 7,
   "id": "5162314a",
   "metadata": {},
   "outputs": [
    {
     "ename": "NameError",
     "evalue": "name 'p' is not defined",
     "output_type": "error",
     "traceback": [
      "\u001b[1;31m---------------------------------------------------------------------------\u001b[0m",
      "\u001b[1;31mNameError\u001b[0m                                 Traceback (most recent call last)",
      "\u001b[1;32m<ipython-input-7-7ee3db41105c>\u001b[0m in \u001b[0;36m<module>\u001b[1;34m\u001b[0m\n\u001b[0;32m      6\u001b[0m \u001b[1;31m#topology = [p, 4, 8, 1]\u001b[0m\u001b[1;33m\u001b[0m\u001b[1;33m\u001b[0m\u001b[1;33m\u001b[0m\u001b[0m\n\u001b[0;32m      7\u001b[0m \u001b[1;33m\u001b[0m\u001b[0m\n\u001b[1;32m----> 8\u001b[1;33m \u001b[0mtopology\u001b[0m \u001b[1;33m=\u001b[0m \u001b[1;33m[\u001b[0m\u001b[0mp\u001b[0m\u001b[1;33m,\u001b[0m \u001b[1;36m4\u001b[0m\u001b[1;33m,\u001b[0m \u001b[1;36m8\u001b[0m\u001b[1;33m,\u001b[0m \u001b[1;36m1\u001b[0m\u001b[1;33m]\u001b[0m\u001b[1;33m\u001b[0m\u001b[1;33m\u001b[0m\u001b[0m\n\u001b[0m\u001b[0;32m      9\u001b[0m \u001b[1;33m\u001b[0m\u001b[0m\n\u001b[0;32m     10\u001b[0m \u001b[0mneural_net\u001b[0m \u001b[1;33m=\u001b[0m \u001b[0mcreate_nn\u001b[0m\u001b[1;33m(\u001b[0m\u001b[0mtopology\u001b[0m\u001b[1;33m,\u001b[0m \u001b[0msigm\u001b[0m\u001b[1;33m)\u001b[0m\u001b[1;33m\u001b[0m\u001b[1;33m\u001b[0m\u001b[0m\n",
      "\u001b[1;31mNameError\u001b[0m: name 'p' is not defined"
     ]
    }
   ],
   "source": [
    "import time\n",
    "from IPython.display import clear_output\n",
    "\n",
    "\n",
    "#topology = [p, 4, 8, 16, 8, 4, 1]\n",
    "#topology = [p, 4, 8, 1]\n",
    "\n",
    "topology = [p, 4, 8, 1]\n",
    "\n",
    "neural_net = create_nn(topology, sigm)\n",
    "\n",
    "loss = []\n",
    "\n",
    "for i in range(3000):\n",
    "    \n",
    "    # entrenar\n",
    "    pY = train(neural_net, X, Y, l2_cost, 0.006)\n",
    "    \n",
    "    if i % 100 == 0:\n",
    "        \n",
    "        loss.append(l2_cost[0](pY, Y))\n",
    "        \n",
    "        res = 50\n",
    "        \n",
    "        _x0 = np.linspace(-1.5, 1.5, res)\n",
    "        _x1 = np.linspace(-1.5, 1.5, res)\n",
    "        \n",
    "        _Y = np.zeros((res, res))\n",
    "        \n",
    "        for i0, x0 in enumerate(_x0):\n",
    "            for i1, x1 in enumerate(_x1):\n",
    "                _Y[i0, i1] = train(neural_net, np.array([[x0, x1]]), Y, l2_cost, train=False)[0][0]\n",
    "        \n",
    "        plt.pcolormesh(_x0, _x1, _Y, cmap=\"coolwarm\")\n",
    "        plt.axis(\"equal\")\n",
    "        \n",
    "        plt.scatter(X[Y[:, 0] == 0, 0], X[Y[:, 0] == 0, 1], c=\"skyblue\")\n",
    "        plt.scatter(X[Y[:, 0] == 1, 0], X[Y[:, 0] == 1, 1], c=\"salmon\")\n",
    "        \n",
    "        clear_output(wait=True)\n",
    "        print(\"Iteración: \", i)\n",
    "        plt.show()\n",
    "        plt.plot(range(len(loss)), loss)\n",
    "        plt.show()\n",
    "        time.sleep(0.5)"
   ]
  }
 ],
 "metadata": {
  "interpreter": {
   "hash": "bce1b430d5678ddc9895ea4da205025240c097c71b09821f93bd0c93971296b9"
  },
  "kernelspec": {
   "display_name": "Python 3.6.13 ('utnia')",
   "language": "python",
   "name": "python3"
  },
  "language_info": {
   "codemirror_mode": {
    "name": "ipython",
    "version": 3
   },
   "file_extension": ".py",
   "mimetype": "text/x-python",
   "name": "python",
   "nbconvert_exporter": "python",
   "pygments_lexer": "ipython3",
   "version": "3.6.13"
  }
 },
 "nbformat": 4,
 "nbformat_minor": 5
}
